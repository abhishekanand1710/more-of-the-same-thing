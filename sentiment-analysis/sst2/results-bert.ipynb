{
 "cells": [
  {
   "cell_type": "code",
   "execution_count": 1,
   "metadata": {},
   "outputs": [],
   "source": [
    "import numpy as np\n",
    "import pandas as pd\n",
    "import matplotlib.pyplot as plt\n",
    "import seaborn as sns\n",
    "import json\n",
    "import os\n",
    "import glob"
   ]
  },
  {
   "cell_type": "markdown",
   "metadata": {},
   "source": [
    "# BERT"
   ]
  },
  {
   "cell_type": "code",
   "execution_count": 6,
   "metadata": {},
   "outputs": [
    {
     "name": "stdout",
     "output_type": "stream",
     "text": [
      "{'variance_metrics': {'full_set_var_sum': 0.8372085094451904, 'full_set_var_values': [0.04720380902290344, 0.044494450092315674, 0.035342536866664886, 0.02611238695681095, 0.02580399066209793, 0.023139387369155884, 0.022728022187948227, 0.020031532272696495, 0.019578007981181145, 0.01777792163193226, 0.017403751611709595, 0.015105344355106354, 0.014606666751205921, 0.01379549503326416, 0.01329789124429226, 0.012884845025837421, 0.01252143457531929, 0.012064694426953793, 0.011867150664329529, 0.010915021412074566, 0.01057171169668436, 0.010373061522841454, 0.009938064962625504, 0.009738999418914318, 0.00940626859664917, 0.009144316427409649, 0.008902674540877342, 0.00872676633298397, 0.008597584441304207, 0.008209249936044216, 0.007903060875833035, 0.007700569927692413, 0.00765777425840497, 0.007498912047594786, 0.007375513669103384, 0.007219691760838032, 0.007143080700188875, 0.00705082667991519, 0.006823307368904352, 0.006683649495244026, 0.0065062823705375195, 0.006437181029468775, 0.006371898576617241, 0.00618642196059227, 0.006025300361216068, 0.005910933017730713, 0.005829904694110155, 0.005708874203264713, 0.005694387014955282, 0.0056349546648561954, 0.005554641131311655, 0.0053672525100409985, 0.005301387049257755, 0.0052345748990774155, 0.0052236816845834255, 0.005026846192777157, 0.004986080806702375, 0.004956122953444719, 0.004829145967960358, 0.004780536983162165, 0.004758991301059723, 0.0045939479023218155, 0.004575904458761215, 0.004501024726778269, 0.004438304342329502, 0.004383320454508066, 0.004294420126825571, 0.004258689936250448, 0.00422927550971508, 0.004180092364549637, 0.00412750244140625, 0.004110532347112894, 0.003967266529798508, 0.00392590556293726, 0.003861864795908332, 0.0038147259037941694, 0.0037286689039319754, 0.003666667267680168, 0.0036228178068995476, 0.003533576615154743, 0.0035067761782556772, 0.0034360664431005716, 0.003395774634554982, 0.00332092703320086, 0.0032442640513181686, 0.0032139525283128023, 0.003199988044798374, 0.003078118432313204, 0.003065383294597268, 0.003039718372747302, 0.0029766152147203684, 0.002895259764045477, 0.002846670104190707, 0.00277718692086637, 0.0027483163867145777, 0.00269921962171793, 0.0026610735803842545, 0.0025829707738012075, 0.002548402873799205, 0.002492524916306138], 'subsets_self_expl_vars': [0.8419082164764404, 0.8389540314674377, 0.8383931517601013, 0.8375496864318848, 0.8378329873085022, 0.8374130725860596, 0.8375052809715271, 0.837279736995697, 0.8373737335205078, 0.8370535969734192], 'r2_values': [0.8325133956563037, 0.8351645107411472, 0.8361134084123776, 0.8366398954331562, 0.8368270873776312, 0.8370110649892851, 0.8371291911691646, 0.8372536244821148, 0.8374124401353322, 0.8373761403294092], 'subset_sizes': [5387, 10774, 16161, 21548, 26935, 32322, 37709, 43096, 48483, 53870]}, 'modelling_metrics': {'subset_size': [5387, 10774, 16161, 21548, 26935, 32322, 37709, 43096, 48483, 53870], 'test_accuracies': [0.8947290274684484, 0.9083890126206384, 0.9210096510764663, 0.9303637713437268, 0.9265033407572383, 0.9294729027468448, 0.9337787676317744, 0.9371937639198218, 0.9441722345953972, 0.9521900519673349], 'test_losses': [0.2522113621234894, 0.23360879719257355, 0.2216118425130844, 0.21383436024188995, 0.19731098413467407, 0.18864569067955017, 0.18468749523162842, 0.1793401539325714, 0.18907739222049713, 0.1765681803226471]}}\n"
     ]
    }
   ],
   "source": [
    "with open('run-metrics.json', 'r') as f:\n",
    "    data = json.load(f)\n",
    "print(data)"
   ]
  },
  {
   "cell_type": "code",
   "execution_count": 7,
   "metadata": {},
   "outputs": [],
   "source": [
    "variance_metrics = data['variance_metrics']\n",
    "modelling_metrics = data['modelling_metrics']\n",
    "subset_sizes = modelling_metrics['subset_size']"
   ]
  },
  {
   "cell_type": "code",
   "execution_count": 8,
   "metadata": {},
   "outputs": [],
   "source": [
    "def get_key(filename):\n",
    "    return filename.split('/')[2].split('-')[2].split('.')[0].lower()"
   ]
  },
  {
   "cell_type": "code",
   "execution_count": 9,
   "metadata": {},
   "outputs": [],
   "source": [
    "file_list = glob.glob('./Eval-Results-bert-base-uncased/*')\n",
    "\n",
    "odd_results = {}\n",
    "for file in file_list:\n",
    "    key = get_key(file)\n",
    "    with open(file, 'r') as f:\n",
    "        data = f.read()\n",
    "        odd_results[key] = data\n",
    "        # process the data as needed\n"
   ]
  },
  {
   "cell_type": "code",
   "execution_count": 10,
   "metadata": {},
   "outputs": [],
   "source": [
    "results = {}"
   ]
  },
  {
   "cell_type": "code",
   "execution_count": 11,
   "metadata": {},
   "outputs": [],
   "source": [
    "results['subset_size'] = subset_sizes\n",
    "results['r2_value'] = variance_metrics['r2_values']\n",
    "results['test_accuracy'] = modelling_metrics['test_accuracies']\n",
    "results['test_loss'] = modelling_metrics['test_losses']"
   ]
  },
  {
   "cell_type": "code",
   "execution_count": 12,
   "metadata": {},
   "outputs": [],
   "source": [
    "subset_sizes = modelling_metrics['subset_size']\n",
    "\n",
    "for key, values in odd_results.items():\n",
    "    values = json.loads(values)\n",
    "    metrics = values['evaluation_metrics']\n",
    "    losses = []\n",
    "    accuracies = []\n",
    "    for metric in metrics:\n",
    "        loss = metric['eval_loss']\n",
    "        acc = metric['eval_accuracy']\n",
    "        losses.append(loss)\n",
    "        accuracies.append(acc)\n",
    "\n",
    "    results[f\"{key}_loss\"] = losses\n",
    "    results[f\"{key}_accuracy\"] = accuracies"
   ]
  },
  {
   "cell_type": "code",
   "execution_count": 13,
   "metadata": {},
   "outputs": [
    {
     "data": {
      "text/html": [
       "<div>\n",
       "<style scoped>\n",
       "    .dataframe tbody tr th:only-of-type {\n",
       "        vertical-align: middle;\n",
       "    }\n",
       "\n",
       "    .dataframe tbody tr th {\n",
       "        vertical-align: top;\n",
       "    }\n",
       "\n",
       "    .dataframe thead th {\n",
       "        text-align: right;\n",
       "    }\n",
       "</style>\n",
       "<table border=\"1\" class=\"dataframe\">\n",
       "  <thead>\n",
       "    <tr style=\"text-align: right;\">\n",
       "      <th></th>\n",
       "      <th>subset_size</th>\n",
       "      <th>r2_value</th>\n",
       "      <th>test_accuracy</th>\n",
       "      <th>test_loss</th>\n",
       "      <th>imdb_loss</th>\n",
       "      <th>imdb_accuracy</th>\n",
       "      <th>tweet_eval_loss</th>\n",
       "      <th>tweet_eval_accuracy</th>\n",
       "      <th>yelp_loss</th>\n",
       "      <th>yelp_accuracy</th>\n",
       "    </tr>\n",
       "  </thead>\n",
       "  <tbody>\n",
       "    <tr>\n",
       "      <th>0</th>\n",
       "      <td>5387</td>\n",
       "      <td>0.832513</td>\n",
       "      <td>0.894729</td>\n",
       "      <td>0.252211</td>\n",
       "      <td>0.433245</td>\n",
       "      <td>0.79780</td>\n",
       "      <td>1.011477</td>\n",
       "      <td>0.391342</td>\n",
       "      <td>0.348197</td>\n",
       "      <td>0.839000</td>\n",
       "    </tr>\n",
       "    <tr>\n",
       "      <th>1</th>\n",
       "      <td>10774</td>\n",
       "      <td>0.835165</td>\n",
       "      <td>0.908389</td>\n",
       "      <td>0.233609</td>\n",
       "      <td>0.406981</td>\n",
       "      <td>0.81820</td>\n",
       "      <td>0.907701</td>\n",
       "      <td>0.575488</td>\n",
       "      <td>0.276874</td>\n",
       "      <td>0.883789</td>\n",
       "    </tr>\n",
       "    <tr>\n",
       "      <th>2</th>\n",
       "      <td>16161</td>\n",
       "      <td>0.836113</td>\n",
       "      <td>0.921010</td>\n",
       "      <td>0.221612</td>\n",
       "      <td>0.465154</td>\n",
       "      <td>0.82468</td>\n",
       "      <td>1.076732</td>\n",
       "      <td>0.537024</td>\n",
       "      <td>0.320366</td>\n",
       "      <td>0.872974</td>\n",
       "    </tr>\n",
       "    <tr>\n",
       "      <th>3</th>\n",
       "      <td>21548</td>\n",
       "      <td>0.836640</td>\n",
       "      <td>0.930364</td>\n",
       "      <td>0.213834</td>\n",
       "      <td>0.453719</td>\n",
       "      <td>0.83120</td>\n",
       "      <td>1.261753</td>\n",
       "      <td>0.516423</td>\n",
       "      <td>0.320186</td>\n",
       "      <td>0.874658</td>\n",
       "    </tr>\n",
       "    <tr>\n",
       "      <th>4</th>\n",
       "      <td>26935</td>\n",
       "      <td>0.836827</td>\n",
       "      <td>0.926503</td>\n",
       "      <td>0.197311</td>\n",
       "      <td>0.420089</td>\n",
       "      <td>0.83652</td>\n",
       "      <td>0.821245</td>\n",
       "      <td>0.628719</td>\n",
       "      <td>0.291093</td>\n",
       "      <td>0.882763</td>\n",
       "    </tr>\n",
       "    <tr>\n",
       "      <th>5</th>\n",
       "      <td>32322</td>\n",
       "      <td>0.837011</td>\n",
       "      <td>0.929473</td>\n",
       "      <td>0.188646</td>\n",
       "      <td>0.451452</td>\n",
       "      <td>0.81724</td>\n",
       "      <td>1.119016</td>\n",
       "      <td>0.481020</td>\n",
       "      <td>0.333663</td>\n",
       "      <td>0.862026</td>\n",
       "    </tr>\n",
       "    <tr>\n",
       "      <th>6</th>\n",
       "      <td>37709</td>\n",
       "      <td>0.837129</td>\n",
       "      <td>0.933779</td>\n",
       "      <td>0.184687</td>\n",
       "      <td>0.457932</td>\n",
       "      <td>0.81492</td>\n",
       "      <td>1.377233</td>\n",
       "      <td>0.412591</td>\n",
       "      <td>0.348262</td>\n",
       "      <td>0.856974</td>\n",
       "    </tr>\n",
       "    <tr>\n",
       "      <th>7</th>\n",
       "      <td>43096</td>\n",
       "      <td>0.837254</td>\n",
       "      <td>0.937194</td>\n",
       "      <td>0.179340</td>\n",
       "      <td>0.433659</td>\n",
       "      <td>0.82648</td>\n",
       "      <td>0.997468</td>\n",
       "      <td>0.549953</td>\n",
       "      <td>0.297840</td>\n",
       "      <td>0.877500</td>\n",
       "    </tr>\n",
       "    <tr>\n",
       "      <th>8</th>\n",
       "      <td>48483</td>\n",
       "      <td>0.837412</td>\n",
       "      <td>0.944172</td>\n",
       "      <td>0.189077</td>\n",
       "      <td>0.484423</td>\n",
       "      <td>0.84104</td>\n",
       "      <td>1.716673</td>\n",
       "      <td>0.454549</td>\n",
       "      <td>0.342963</td>\n",
       "      <td>0.880632</td>\n",
       "    </tr>\n",
       "    <tr>\n",
       "      <th>9</th>\n",
       "      <td>53870</td>\n",
       "      <td>0.837376</td>\n",
       "      <td>0.952190</td>\n",
       "      <td>0.176568</td>\n",
       "      <td>0.528025</td>\n",
       "      <td>0.83520</td>\n",
       "      <td>1.807608</td>\n",
       "      <td>0.493409</td>\n",
       "      <td>0.377826</td>\n",
       "      <td>0.870868</td>\n",
       "    </tr>\n",
       "  </tbody>\n",
       "</table>\n",
       "</div>"
      ],
      "text/plain": [
       "   subset_size  r2_value  test_accuracy  test_loss  imdb_loss  imdb_accuracy  \\\n",
       "0         5387  0.832513       0.894729   0.252211   0.433245        0.79780   \n",
       "1        10774  0.835165       0.908389   0.233609   0.406981        0.81820   \n",
       "2        16161  0.836113       0.921010   0.221612   0.465154        0.82468   \n",
       "3        21548  0.836640       0.930364   0.213834   0.453719        0.83120   \n",
       "4        26935  0.836827       0.926503   0.197311   0.420089        0.83652   \n",
       "5        32322  0.837011       0.929473   0.188646   0.451452        0.81724   \n",
       "6        37709  0.837129       0.933779   0.184687   0.457932        0.81492   \n",
       "7        43096  0.837254       0.937194   0.179340   0.433659        0.82648   \n",
       "8        48483  0.837412       0.944172   0.189077   0.484423        0.84104   \n",
       "9        53870  0.837376       0.952190   0.176568   0.528025        0.83520   \n",
       "\n",
       "   tweet_eval_loss  tweet_eval_accuracy  yelp_loss  yelp_accuracy  \n",
       "0         1.011477             0.391342   0.348197       0.839000  \n",
       "1         0.907701             0.575488   0.276874       0.883789  \n",
       "2         1.076732             0.537024   0.320366       0.872974  \n",
       "3         1.261753             0.516423   0.320186       0.874658  \n",
       "4         0.821245             0.628719   0.291093       0.882763  \n",
       "5         1.119016             0.481020   0.333663       0.862026  \n",
       "6         1.377233             0.412591   0.348262       0.856974  \n",
       "7         0.997468             0.549953   0.297840       0.877500  \n",
       "8         1.716673             0.454549   0.342963       0.880632  \n",
       "9         1.807608             0.493409   0.377826       0.870868  "
      ]
     },
     "execution_count": 13,
     "metadata": {},
     "output_type": "execute_result"
    }
   ],
   "source": [
    "results_df = pd.DataFrame(results)\n",
    "results_df"
   ]
  },
  {
   "cell_type": "code",
   "execution_count": 15,
   "metadata": {},
   "outputs": [
    {
     "data": {
      "text/html": [
       "<div>\n",
       "<style scoped>\n",
       "    .dataframe tbody tr th:only-of-type {\n",
       "        vertical-align: middle;\n",
       "    }\n",
       "\n",
       "    .dataframe tbody tr th {\n",
       "        vertical-align: top;\n",
       "    }\n",
       "\n",
       "    .dataframe thead th {\n",
       "        text-align: right;\n",
       "    }\n",
       "</style>\n",
       "<table border=\"1\" class=\"dataframe\">\n",
       "  <thead>\n",
       "    <tr style=\"text-align: right;\">\n",
       "      <th></th>\n",
       "      <th>subset_size</th>\n",
       "      <th>r2_value</th>\n",
       "      <th>test_accuracy</th>\n",
       "      <th>test_loss</th>\n",
       "      <th>imdb_loss</th>\n",
       "      <th>imdb_accuracy</th>\n",
       "      <th>tweet_eval_loss</th>\n",
       "      <th>tweet_eval_accuracy</th>\n",
       "      <th>yelp_loss</th>\n",
       "      <th>yelp_accuracy</th>\n",
       "      <th>mean_odd_accuracy</th>\n",
       "      <th>mean_odd_loss</th>\n",
       "    </tr>\n",
       "  </thead>\n",
       "  <tbody>\n",
       "    <tr>\n",
       "      <th>0</th>\n",
       "      <td>5387</td>\n",
       "      <td>0.832513</td>\n",
       "      <td>0.894729</td>\n",
       "      <td>0.252211</td>\n",
       "      <td>0.433245</td>\n",
       "      <td>0.79780</td>\n",
       "      <td>1.011477</td>\n",
       "      <td>0.391342</td>\n",
       "      <td>0.348197</td>\n",
       "      <td>0.839000</td>\n",
       "      <td>0.676047</td>\n",
       "      <td>0.597640</td>\n",
       "    </tr>\n",
       "    <tr>\n",
       "      <th>1</th>\n",
       "      <td>10774</td>\n",
       "      <td>0.835165</td>\n",
       "      <td>0.908389</td>\n",
       "      <td>0.233609</td>\n",
       "      <td>0.406981</td>\n",
       "      <td>0.81820</td>\n",
       "      <td>0.907701</td>\n",
       "      <td>0.575488</td>\n",
       "      <td>0.276874</td>\n",
       "      <td>0.883789</td>\n",
       "      <td>0.759159</td>\n",
       "      <td>0.530519</td>\n",
       "    </tr>\n",
       "    <tr>\n",
       "      <th>2</th>\n",
       "      <td>16161</td>\n",
       "      <td>0.836113</td>\n",
       "      <td>0.921010</td>\n",
       "      <td>0.221612</td>\n",
       "      <td>0.465154</td>\n",
       "      <td>0.82468</td>\n",
       "      <td>1.076732</td>\n",
       "      <td>0.537024</td>\n",
       "      <td>0.320366</td>\n",
       "      <td>0.872974</td>\n",
       "      <td>0.744892</td>\n",
       "      <td>0.620751</td>\n",
       "    </tr>\n",
       "    <tr>\n",
       "      <th>3</th>\n",
       "      <td>21548</td>\n",
       "      <td>0.836640</td>\n",
       "      <td>0.930364</td>\n",
       "      <td>0.213834</td>\n",
       "      <td>0.453719</td>\n",
       "      <td>0.83120</td>\n",
       "      <td>1.261753</td>\n",
       "      <td>0.516423</td>\n",
       "      <td>0.320186</td>\n",
       "      <td>0.874658</td>\n",
       "      <td>0.740760</td>\n",
       "      <td>0.678553</td>\n",
       "    </tr>\n",
       "    <tr>\n",
       "      <th>4</th>\n",
       "      <td>26935</td>\n",
       "      <td>0.836827</td>\n",
       "      <td>0.926503</td>\n",
       "      <td>0.197311</td>\n",
       "      <td>0.420089</td>\n",
       "      <td>0.83652</td>\n",
       "      <td>0.821245</td>\n",
       "      <td>0.628719</td>\n",
       "      <td>0.291093</td>\n",
       "      <td>0.882763</td>\n",
       "      <td>0.782667</td>\n",
       "      <td>0.510809</td>\n",
       "    </tr>\n",
       "    <tr>\n",
       "      <th>5</th>\n",
       "      <td>32322</td>\n",
       "      <td>0.837011</td>\n",
       "      <td>0.929473</td>\n",
       "      <td>0.188646</td>\n",
       "      <td>0.451452</td>\n",
       "      <td>0.81724</td>\n",
       "      <td>1.119016</td>\n",
       "      <td>0.481020</td>\n",
       "      <td>0.333663</td>\n",
       "      <td>0.862026</td>\n",
       "      <td>0.720095</td>\n",
       "      <td>0.634710</td>\n",
       "    </tr>\n",
       "    <tr>\n",
       "      <th>6</th>\n",
       "      <td>37709</td>\n",
       "      <td>0.837129</td>\n",
       "      <td>0.933779</td>\n",
       "      <td>0.184687</td>\n",
       "      <td>0.457932</td>\n",
       "      <td>0.81492</td>\n",
       "      <td>1.377233</td>\n",
       "      <td>0.412591</td>\n",
       "      <td>0.348262</td>\n",
       "      <td>0.856974</td>\n",
       "      <td>0.694828</td>\n",
       "      <td>0.727809</td>\n",
       "    </tr>\n",
       "    <tr>\n",
       "      <th>7</th>\n",
       "      <td>43096</td>\n",
       "      <td>0.837254</td>\n",
       "      <td>0.937194</td>\n",
       "      <td>0.179340</td>\n",
       "      <td>0.433659</td>\n",
       "      <td>0.82648</td>\n",
       "      <td>0.997468</td>\n",
       "      <td>0.549953</td>\n",
       "      <td>0.297840</td>\n",
       "      <td>0.877500</td>\n",
       "      <td>0.751311</td>\n",
       "      <td>0.576322</td>\n",
       "    </tr>\n",
       "    <tr>\n",
       "      <th>8</th>\n",
       "      <td>48483</td>\n",
       "      <td>0.837412</td>\n",
       "      <td>0.944172</td>\n",
       "      <td>0.189077</td>\n",
       "      <td>0.484423</td>\n",
       "      <td>0.84104</td>\n",
       "      <td>1.716673</td>\n",
       "      <td>0.454549</td>\n",
       "      <td>0.342963</td>\n",
       "      <td>0.880632</td>\n",
       "      <td>0.725407</td>\n",
       "      <td>0.848020</td>\n",
       "    </tr>\n",
       "    <tr>\n",
       "      <th>9</th>\n",
       "      <td>53870</td>\n",
       "      <td>0.837376</td>\n",
       "      <td>0.952190</td>\n",
       "      <td>0.176568</td>\n",
       "      <td>0.528025</td>\n",
       "      <td>0.83520</td>\n",
       "      <td>1.807608</td>\n",
       "      <td>0.493409</td>\n",
       "      <td>0.377826</td>\n",
       "      <td>0.870868</td>\n",
       "      <td>0.733159</td>\n",
       "      <td>0.904486</td>\n",
       "    </tr>\n",
       "  </tbody>\n",
       "</table>\n",
       "</div>"
      ],
      "text/plain": [
       "   subset_size  r2_value  test_accuracy  test_loss  imdb_loss  imdb_accuracy  \\\n",
       "0         5387  0.832513       0.894729   0.252211   0.433245        0.79780   \n",
       "1        10774  0.835165       0.908389   0.233609   0.406981        0.81820   \n",
       "2        16161  0.836113       0.921010   0.221612   0.465154        0.82468   \n",
       "3        21548  0.836640       0.930364   0.213834   0.453719        0.83120   \n",
       "4        26935  0.836827       0.926503   0.197311   0.420089        0.83652   \n",
       "5        32322  0.837011       0.929473   0.188646   0.451452        0.81724   \n",
       "6        37709  0.837129       0.933779   0.184687   0.457932        0.81492   \n",
       "7        43096  0.837254       0.937194   0.179340   0.433659        0.82648   \n",
       "8        48483  0.837412       0.944172   0.189077   0.484423        0.84104   \n",
       "9        53870  0.837376       0.952190   0.176568   0.528025        0.83520   \n",
       "\n",
       "   tweet_eval_loss  tweet_eval_accuracy  yelp_loss  yelp_accuracy  \\\n",
       "0         1.011477             0.391342   0.348197       0.839000   \n",
       "1         0.907701             0.575488   0.276874       0.883789   \n",
       "2         1.076732             0.537024   0.320366       0.872974   \n",
       "3         1.261753             0.516423   0.320186       0.874658   \n",
       "4         0.821245             0.628719   0.291093       0.882763   \n",
       "5         1.119016             0.481020   0.333663       0.862026   \n",
       "6         1.377233             0.412591   0.348262       0.856974   \n",
       "7         0.997468             0.549953   0.297840       0.877500   \n",
       "8         1.716673             0.454549   0.342963       0.880632   \n",
       "9         1.807608             0.493409   0.377826       0.870868   \n",
       "\n",
       "   mean_odd_accuracy  mean_odd_loss  \n",
       "0           0.676047       0.597640  \n",
       "1           0.759159       0.530519  \n",
       "2           0.744892       0.620751  \n",
       "3           0.740760       0.678553  \n",
       "4           0.782667       0.510809  \n",
       "5           0.720095       0.634710  \n",
       "6           0.694828       0.727809  \n",
       "7           0.751311       0.576322  \n",
       "8           0.725407       0.848020  \n",
       "9           0.733159       0.904486  "
      ]
     },
     "execution_count": 15,
     "metadata": {},
     "output_type": "execute_result"
    }
   ],
   "source": [
    "results_df['mean_odd_accuracy'] = results_df[['imdb_accuracy', 'tweet_eval_accuracy', 'yelp_accuracy']].mean(axis=1)\n",
    "results_df['mean_odd_loss'] = results_df[['imdb_loss', 'tweet_eval_loss', 'yelp_loss']].mean(axis=1)\n",
    "results_df"
   ]
  },
  {
   "cell_type": "code",
   "execution_count": 26,
   "metadata": {},
   "outputs": [
    {
     "data": {
      "image/png": "[encoded data removed]",
      "text/plain": [
       "<Figure size 640x480 with 1 Axes>"
      ]
     },
     "metadata": {},
     "output_type": "display_data"
    }
   ],
   "source": [
    "plot = sns.barplot(x=results_df['subset_size'], y=results_df['mean_odd_accuracy'])"
   ]
  },
  {
   "cell_type": "code",
   "execution_count": 27,
   "metadata": {},
   "outputs": [
    {
     "data": {
      "image/png": "[encoded data removed]",
      "text/plain": [
       "<Figure size 640x480 with 1 Axes>"
      ]
     },
     "metadata": {},
     "output_type": "display_data"
    }
   ],
   "source": [
    "plot = sns.barplot(x=results_df['subset_size'], y=results_df['mean_odd_loss'])"
   ]
  },
  {
   "cell_type": "code",
   "execution_count": 28,
   "metadata": {},
   "outputs": [
    {
     "data": {
      "image/png": "[encoded data removed]",
      "text/plain": [
       "<Figure size 640x480 with 1 Axes>"
      ]
     },
     "metadata": {},
     "output_type": "display_data"
    }
   ],
   "source": [
    "plot = sns.barplot(x=results_df['subset_size'], y=results_df['mean_odd_accuracy'], alpha=0.7)\n",
    "plot = sns.barplot(x=results_df['subset_size'], y=results_df['mean_odd_loss'], alpha=0.7)"
   ]
  },
  {
   "cell_type": "code",
   "execution_count": 22,
   "metadata": {},
   "outputs": [
    {
     "data": {
      "text/plain": [
       "[(0.16, 0.96)]"
      ]
     },
     "execution_count": 22,
     "metadata": {},
     "output_type": "execute_result"
    },
    {
     "data": {
      "image/png": "[encoded data removed]",
      "text/plain": [
       "<Figure size 640x480 with 1 Axes>"
      ]
     },
     "metadata": {},
     "output_type": "display_data"
    }
   ],
   "source": [
    "plot = sns.barplot(x=results_df['subset_size'], y=results_df['test_accuracy'], alpha=0.7)\n",
    "plot = sns.barplot(x=results_df['subset_size'], y=results_df['test_loss'], alpha=0.7)\n",
    "plot.set(ylim=(0.16, 0.96))"
   ]
  },
  {
   "cell_type": "code",
   "execution_count": 21,
   "metadata": {},
   "outputs": [
    {
     "data": {
      "text/plain": [
       "<matplotlib.lines.Line2D at 0x2803af310>"
      ]
     },
     "execution_count": 21,
     "metadata": {},
     "output_type": "execute_result"
    },
    {
     "data": {
      "image/png": "[encoded data removed]",
      "text/plain": [
       "<Figure size 640x480 with 1 Axes>"
      ]
     },
     "metadata": {},
     "output_type": "display_data"
    }
   ],
   "source": [
    "graph = sns.lineplot(x=results_df['subset_size'], y=results_df['r2_value'], marker=\"o\")\n",
    "graph.axhline(variance_metrics['full_set_var_sum'], color='red')"
   ]
  },
  {
   "cell_type": "code",
   "execution_count": null,
   "metadata": {},
   "outputs": [],
   "source": []
  },
  {
   "cell_type": "code",
   "execution_count": null,
   "metadata": {},
   "outputs": [],
   "source": [
    "file_list = glob.glob('./Eval-Results-roberta-base/*')\n",
    "\n",
    "odd_results = {}\n",
    "for file in file_list:\n",
    "    key = get_key(file)\n",
    "    with open(file, 'r') as f:\n",
    "        data = f.read()\n",
    "        odd_results[key] = data\n",
    "        # process the data as needed"
   ]
  },
  {
   "cell_type": "code",
   "execution_count": null,
   "metadata": {},
   "outputs": [],
   "source": []
  }
 ],
 "metadata": {
  "kernelspec": {
   "display_name": "py11-env",
   "language": "python",
   "name": "python3"
  },
  "language_info": {
   "codemirror_mode": {
    "name": "ipython",
    "version": 3
   },
   "file_extension": ".py",
   "mimetype": "text/x-python",
   "name": "python",
   "nbconvert_exporter": "python",
   "pygments_lexer": "ipython3",
   "version": "3.11.6"
  }
 },
 "nbformat": 4,
 "nbformat_minor": 2
}
