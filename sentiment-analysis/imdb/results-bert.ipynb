{
 "cells": [
  {
   "cell_type": "code",
   "execution_count": 2,
   "metadata": {},
   "outputs": [],
   "source": [
    "import numpy as np\n",
    "import pandas as pd\n",
    "import matplotlib.pyplot as plt\n",
    "import seaborn as sns\n",
    "import json\n",
    "import os\n",
    "import glob"
   ]
  },
  {
   "cell_type": "markdown",
   "metadata": {},
   "source": [
    "# BERT"
   ]
  },
  {
   "cell_type": "code",
   "execution_count": 3,
   "metadata": {},
   "outputs": [
    {
     "name": "stdout",
     "output_type": "stream",
     "text": [
      "{'variance_metrics': {'full_set_var_sum': 0.8371616005897522, 'full_set_var_values': [0.045681219547986984, 0.030603904277086258, 0.029345836490392685, 0.026773635298013687, 0.02451908029615879, 0.022191615775227547, 0.02012275904417038, 0.018668321892619133, 0.01699906215071678, 0.0161441620439291, 0.015137050300836563, 0.01488886121660471, 0.014030903577804565, 0.013279978185892105, 0.012955030426383018, 0.012708143331110477, 0.012045631185173988, 0.011758376844227314, 0.011413678526878357, 0.01112492848187685, 0.010817628353834152, 0.010292262770235538, 0.010020196437835693, 0.0099154869094491, 0.00980390701442957, 0.009520405903458595, 0.009171979501843452, 0.009023783728480339, 0.008810154162347317, 0.008649900555610657, 0.008559624664485455, 0.008421508595347404, 0.008255038410425186, 0.008040486834943295, 0.00796289462596178, 0.007754337042570114, 0.007561211474239826, 0.007403586059808731, 0.007246369495987892, 0.007178264670073986, 0.007105707190930843, 0.007073891814798117, 0.00701515655964613, 0.006922826636582613, 0.006824534852057695, 0.006709013134241104, 0.006464524194598198, 0.006378461606800556, 0.006308684125542641, 0.006211463361978531, 0.006060922052711248, 0.0058832718059420586, 0.005790347699075937, 0.005744500085711479, 0.005685105919837952, 0.005605117417871952, 0.005450089927762747, 0.005424275528639555, 0.005360165145248175, 0.005268511828035116, 0.0052055008709430695, 0.005126036237925291, 0.005103889852762222, 0.004987427499145269, 0.004908351693302393, 0.00485070189461112, 0.0048158736899495125, 0.004754873923957348, 0.004701597616076469, 0.004646765999495983, 0.004573200363665819, 0.004494079388678074, 0.004411114379763603, 0.00431771669536829, 0.004260518122464418, 0.004235087428241968, 0.0041322847828269005, 0.004103551618754864, 0.0040036700665950775, 0.003965509589761496, 0.003928548190742731, 0.0038638797122985125, 0.0038357186131179333, 0.003739312058314681, 0.0037044992204755545, 0.003581488970667124, 0.003559473669156432, 0.003456737147644162, 0.0034018042497336864, 0.00336597952991724, 0.0033162059262394905, 0.0032649231143295765, 0.0032032739836722612, 0.0031988234259188175, 0.0031107484828680754, 0.0030630810651928186, 0.003039545612409711, 0.002976536052301526, 0.002973721129819751, 0.0028917144518345594], 'subsets_self_expl_vars': [0.8459884524345398, 0.841711699962616, 0.839440107345581, 0.838645875453949, 0.8380483984947205, 0.8377070426940918, 0.8374029994010925, 0.837614119052887, 0.8370150923728943, 0.8371802568435669], 'r2_values': [0.8272682448702291, 0.8329923889417082, 0.834808019959378, 0.8358120781610308, 0.8362988372744733, 0.8366101060330036, 0.836960301184997, 0.8371864863096644, 0.837203001344333, 0.8375351707573807], 'subset_sizes': [2500, 5000, 7500, 10000, 12500, 15000, 17500, 20000, 22500, 25000]}, 'modelling_metrics': {'subset_size': [2500, 5000, 7500, 10000, 12500, 15000, 17500, 20000, 22500, 25000], 'test_accuracies': [0.84924, 0.86464, 0.87212, 0.87452, 0.87344, 0.88776, 0.87796, 0.86952, 0.8856, 0.87224], 'test_losses': [0.3549751937389374, 0.3151463568210602, 0.309031218290329, 0.2919221818447113, 0.298308789730072, 0.2910977303981781, 0.2845411002635956, 0.29527366161346436, 0.2719684839248657, 0.2976611256599426]}}\n"
     ]
    }
   ],
   "source": [
    "with open('run-metrics.json', 'r') as f:\n",
    "    data = json.load(f)\n",
    "print(data)"
   ]
  },
  {
   "cell_type": "code",
   "execution_count": 4,
   "metadata": {},
   "outputs": [],
   "source": [
    "variance_metrics = data['variance_metrics']\n",
    "modelling_metrics = data['modelling_metrics']\n",
    "subset_sizes = modelling_metrics['subset_size']"
   ]
  },
  {
   "cell_type": "code",
   "execution_count": 5,
   "metadata": {},
   "outputs": [],
   "source": [
    "def get_key(filename):\n",
    "    return filename.split('/')[2].split('-')[2].split('.')[0].lower()"
   ]
  },
  {
   "cell_type": "code",
   "execution_count": 6,
   "metadata": {},
   "outputs": [],
   "source": [
    "file_list = glob.glob('./Eval-Results-bert-base-uncased/*')\n",
    "\n",
    "odd_results = {}\n",
    "for file in file_list:\n",
    "    key = get_key(file)\n",
    "    with open(file, 'r') as f:\n",
    "        data = f.read()\n",
    "        odd_results[key] = data\n",
    "        # process the data as needed\n"
   ]
  },
  {
   "cell_type": "code",
   "execution_count": 7,
   "metadata": {},
   "outputs": [],
   "source": [
    "results = {}"
   ]
  },
  {
   "cell_type": "code",
   "execution_count": 8,
   "metadata": {},
   "outputs": [],
   "source": [
    "results['subset_size'] = subset_sizes\n",
    "results['r2_value'] = variance_metrics['r2_values']\n",
    "results['test_accuracy'] = modelling_metrics['test_accuracies']\n",
    "results['test_loss'] = modelling_metrics['test_losses']"
   ]
  },
  {
   "cell_type": "code",
   "execution_count": 9,
   "metadata": {},
   "outputs": [],
   "source": [
    "subset_sizes = modelling_metrics['subset_size']\n",
    "\n",
    "for key, values in odd_results.items():\n",
    "    values = json.loads(values)\n",
    "    metrics = values['evaluation_metrics']\n",
    "    losses = []\n",
    "    accuracies = []\n",
    "    for metric in metrics:\n",
    "        loss = metric['eval_loss']\n",
    "        acc = metric['eval_accuracy']\n",
    "        losses.append(loss)\n",
    "        accuracies.append(acc)\n",
    "\n",
    "    results[f\"{key}_loss\"] = losses\n",
    "    results[f\"{key}_accuracy\"] = accuracies"
   ]
  },
  {
   "cell_type": "code",
   "execution_count": 10,
   "metadata": {},
   "outputs": [
    {
     "data": {
      "text/html": [
       "<div>\n",
       "<style scoped>\n",
       "    .dataframe tbody tr th:only-of-type {\n",
       "        vertical-align: middle;\n",
       "    }\n",
       "\n",
       "    .dataframe tbody tr th {\n",
       "        vertical-align: top;\n",
       "    }\n",
       "\n",
       "    .dataframe thead th {\n",
       "        text-align: right;\n",
       "    }\n",
       "</style>\n",
       "<table border=\"1\" class=\"dataframe\">\n",
       "  <thead>\n",
       "    <tr style=\"text-align: right;\">\n",
       "      <th></th>\n",
       "      <th>subset_size</th>\n",
       "      <th>r2_value</th>\n",
       "      <th>test_accuracy</th>\n",
       "      <th>test_loss</th>\n",
       "      <th>sst2_loss</th>\n",
       "      <th>sst2_accuracy</th>\n",
       "      <th>tweet_eval_loss</th>\n",
       "      <th>tweet_eval_accuracy</th>\n",
       "      <th>yelp_loss</th>\n",
       "      <th>yelp_accuracy</th>\n",
       "    </tr>\n",
       "  </thead>\n",
       "  <tbody>\n",
       "    <tr>\n",
       "      <th>0</th>\n",
       "      <td>2500</td>\n",
       "      <td>0.827268</td>\n",
       "      <td>0.84924</td>\n",
       "      <td>0.354975</td>\n",
       "      <td>0.398396</td>\n",
       "      <td>0.816389</td>\n",
       "      <td>0.691981</td>\n",
       "      <td>0.589606</td>\n",
       "      <td>0.309053</td>\n",
       "      <td>0.878421</td>\n",
       "    </tr>\n",
       "    <tr>\n",
       "      <th>1</th>\n",
       "      <td>5000</td>\n",
       "      <td>0.832992</td>\n",
       "      <td>0.86464</td>\n",
       "      <td>0.315146</td>\n",
       "      <td>0.355875</td>\n",
       "      <td>0.850881</td>\n",
       "      <td>0.721297</td>\n",
       "      <td>0.605021</td>\n",
       "      <td>0.287472</td>\n",
       "      <td>0.883947</td>\n",
       "    </tr>\n",
       "    <tr>\n",
       "      <th>2</th>\n",
       "      <td>7500</td>\n",
       "      <td>0.834808</td>\n",
       "      <td>0.87212</td>\n",
       "      <td>0.309031</td>\n",
       "      <td>0.377850</td>\n",
       "      <td>0.838468</td>\n",
       "      <td>0.692778</td>\n",
       "      <td>0.608262</td>\n",
       "      <td>0.281490</td>\n",
       "      <td>0.885974</td>\n",
       "    </tr>\n",
       "    <tr>\n",
       "      <th>3</th>\n",
       "      <td>10000</td>\n",
       "      <td>0.835812</td>\n",
       "      <td>0.87452</td>\n",
       "      <td>0.291922</td>\n",
       "      <td>0.340700</td>\n",
       "      <td>0.858825</td>\n",
       "      <td>0.639589</td>\n",
       "      <td>0.648239</td>\n",
       "      <td>0.275166</td>\n",
       "      <td>0.885421</td>\n",
       "    </tr>\n",
       "    <tr>\n",
       "      <th>4</th>\n",
       "      <td>12500</td>\n",
       "      <td>0.836299</td>\n",
       "      <td>0.87344</td>\n",
       "      <td>0.298309</td>\n",
       "      <td>0.353231</td>\n",
       "      <td>0.844912</td>\n",
       "      <td>0.703618</td>\n",
       "      <td>0.633545</td>\n",
       "      <td>0.316007</td>\n",
       "      <td>0.860895</td>\n",
       "    </tr>\n",
       "    <tr>\n",
       "      <th>5</th>\n",
       "      <td>15000</td>\n",
       "      <td>0.836610</td>\n",
       "      <td>0.88776</td>\n",
       "      <td>0.291098</td>\n",
       "      <td>0.384584</td>\n",
       "      <td>0.838097</td>\n",
       "      <td>0.603409</td>\n",
       "      <td>0.711302</td>\n",
       "      <td>0.306264</td>\n",
       "      <td>0.865342</td>\n",
       "    </tr>\n",
       "    <tr>\n",
       "      <th>6</th>\n",
       "      <td>17500</td>\n",
       "      <td>0.836960</td>\n",
       "      <td>0.87796</td>\n",
       "      <td>0.284541</td>\n",
       "      <td>0.399323</td>\n",
       "      <td>0.802388</td>\n",
       "      <td>0.533752</td>\n",
       "      <td>0.758662</td>\n",
       "      <td>0.327960</td>\n",
       "      <td>0.846395</td>\n",
       "    </tr>\n",
       "    <tr>\n",
       "      <th>7</th>\n",
       "      <td>20000</td>\n",
       "      <td>0.837186</td>\n",
       "      <td>0.86952</td>\n",
       "      <td>0.295274</td>\n",
       "      <td>0.342940</td>\n",
       "      <td>0.852708</td>\n",
       "      <td>0.757434</td>\n",
       "      <td>0.554383</td>\n",
       "      <td>0.302919</td>\n",
       "      <td>0.877211</td>\n",
       "    </tr>\n",
       "    <tr>\n",
       "      <th>8</th>\n",
       "      <td>22500</td>\n",
       "      <td>0.837203</td>\n",
       "      <td>0.88560</td>\n",
       "      <td>0.271968</td>\n",
       "      <td>0.340548</td>\n",
       "      <td>0.849322</td>\n",
       "      <td>0.744779</td>\n",
       "      <td>0.553771</td>\n",
       "      <td>0.306925</td>\n",
       "      <td>0.871184</td>\n",
       "    </tr>\n",
       "    <tr>\n",
       "      <th>9</th>\n",
       "      <td>25000</td>\n",
       "      <td>0.837535</td>\n",
       "      <td>0.87224</td>\n",
       "      <td>0.297661</td>\n",
       "      <td>0.328276</td>\n",
       "      <td>0.859642</td>\n",
       "      <td>0.663371</td>\n",
       "      <td>0.627818</td>\n",
       "      <td>0.302332</td>\n",
       "      <td>0.879158</td>\n",
       "    </tr>\n",
       "  </tbody>\n",
       "</table>\n",
       "</div>"
      ],
      "text/plain": [
       "   subset_size  r2_value  test_accuracy  test_loss  sst2_loss  sst2_accuracy  \\\n",
       "0         2500  0.827268        0.84924   0.354975   0.398396       0.816389   \n",
       "1         5000  0.832992        0.86464   0.315146   0.355875       0.850881   \n",
       "2         7500  0.834808        0.87212   0.309031   0.377850       0.838468   \n",
       "3        10000  0.835812        0.87452   0.291922   0.340700       0.858825   \n",
       "4        12500  0.836299        0.87344   0.298309   0.353231       0.844912   \n",
       "5        15000  0.836610        0.88776   0.291098   0.384584       0.838097   \n",
       "6        17500  0.836960        0.87796   0.284541   0.399323       0.802388   \n",
       "7        20000  0.837186        0.86952   0.295274   0.342940       0.852708   \n",
       "8        22500  0.837203        0.88560   0.271968   0.340548       0.849322   \n",
       "9        25000  0.837535        0.87224   0.297661   0.328276       0.859642   \n",
       "\n",
       "   tweet_eval_loss  tweet_eval_accuracy  yelp_loss  yelp_accuracy  \n",
       "0         0.691981             0.589606   0.309053       0.878421  \n",
       "1         0.721297             0.605021   0.287472       0.883947  \n",
       "2         0.692778             0.608262   0.281490       0.885974  \n",
       "3         0.639589             0.648239   0.275166       0.885421  \n",
       "4         0.703618             0.633545   0.316007       0.860895  \n",
       "5         0.603409             0.711302   0.306264       0.865342  \n",
       "6         0.533752             0.758662   0.327960       0.846395  \n",
       "7         0.757434             0.554383   0.302919       0.877211  \n",
       "8         0.744779             0.553771   0.306925       0.871184  \n",
       "9         0.663371             0.627818   0.302332       0.879158  "
      ]
     },
     "execution_count": 10,
     "metadata": {},
     "output_type": "execute_result"
    }
   ],
   "source": [
    "results_df = pd.DataFrame(results)\n",
    "results_df"
   ]
  },
  {
   "cell_type": "code",
   "execution_count": 11,
   "metadata": {},
   "outputs": [
    {
     "data": {
      "text/html": [
       "<div>\n",
       "<style scoped>\n",
       "    .dataframe tbody tr th:only-of-type {\n",
       "        vertical-align: middle;\n",
       "    }\n",
       "\n",
       "    .dataframe tbody tr th {\n",
       "        vertical-align: top;\n",
       "    }\n",
       "\n",
       "    .dataframe thead th {\n",
       "        text-align: right;\n",
       "    }\n",
       "</style>\n",
       "<table border=\"1\" class=\"dataframe\">\n",
       "  <thead>\n",
       "    <tr style=\"text-align: right;\">\n",
       "      <th></th>\n",
       "      <th>subset_size</th>\n",
       "      <th>r2_value</th>\n",
       "      <th>test_accuracy</th>\n",
       "      <th>test_loss</th>\n",
       "      <th>sst2_loss</th>\n",
       "      <th>sst2_accuracy</th>\n",
       "      <th>tweet_eval_loss</th>\n",
       "      <th>tweet_eval_accuracy</th>\n",
       "      <th>yelp_loss</th>\n",
       "      <th>yelp_accuracy</th>\n",
       "      <th>mean_odd_accuracy</th>\n",
       "      <th>mean_odd_loss</th>\n",
       "    </tr>\n",
       "  </thead>\n",
       "  <tbody>\n",
       "    <tr>\n",
       "      <th>0</th>\n",
       "      <td>2500</td>\n",
       "      <td>0.827268</td>\n",
       "      <td>0.84924</td>\n",
       "      <td>0.354975</td>\n",
       "      <td>0.398396</td>\n",
       "      <td>0.816389</td>\n",
       "      <td>0.691981</td>\n",
       "      <td>0.589606</td>\n",
       "      <td>0.309053</td>\n",
       "      <td>0.878421</td>\n",
       "      <td>0.761472</td>\n",
       "      <td>0.466477</td>\n",
       "    </tr>\n",
       "    <tr>\n",
       "      <th>1</th>\n",
       "      <td>5000</td>\n",
       "      <td>0.832992</td>\n",
       "      <td>0.86464</td>\n",
       "      <td>0.315146</td>\n",
       "      <td>0.355875</td>\n",
       "      <td>0.850881</td>\n",
       "      <td>0.721297</td>\n",
       "      <td>0.605021</td>\n",
       "      <td>0.287472</td>\n",
       "      <td>0.883947</td>\n",
       "      <td>0.779950</td>\n",
       "      <td>0.454881</td>\n",
       "    </tr>\n",
       "    <tr>\n",
       "      <th>2</th>\n",
       "      <td>7500</td>\n",
       "      <td>0.834808</td>\n",
       "      <td>0.87212</td>\n",
       "      <td>0.309031</td>\n",
       "      <td>0.377850</td>\n",
       "      <td>0.838468</td>\n",
       "      <td>0.692778</td>\n",
       "      <td>0.608262</td>\n",
       "      <td>0.281490</td>\n",
       "      <td>0.885974</td>\n",
       "      <td>0.777568</td>\n",
       "      <td>0.450706</td>\n",
       "    </tr>\n",
       "    <tr>\n",
       "      <th>3</th>\n",
       "      <td>10000</td>\n",
       "      <td>0.835812</td>\n",
       "      <td>0.87452</td>\n",
       "      <td>0.291922</td>\n",
       "      <td>0.340700</td>\n",
       "      <td>0.858825</td>\n",
       "      <td>0.639589</td>\n",
       "      <td>0.648239</td>\n",
       "      <td>0.275166</td>\n",
       "      <td>0.885421</td>\n",
       "      <td>0.797495</td>\n",
       "      <td>0.418485</td>\n",
       "    </tr>\n",
       "    <tr>\n",
       "      <th>4</th>\n",
       "      <td>12500</td>\n",
       "      <td>0.836299</td>\n",
       "      <td>0.87344</td>\n",
       "      <td>0.298309</td>\n",
       "      <td>0.353231</td>\n",
       "      <td>0.844912</td>\n",
       "      <td>0.703618</td>\n",
       "      <td>0.633545</td>\n",
       "      <td>0.316007</td>\n",
       "      <td>0.860895</td>\n",
       "      <td>0.779784</td>\n",
       "      <td>0.457619</td>\n",
       "    </tr>\n",
       "    <tr>\n",
       "      <th>5</th>\n",
       "      <td>15000</td>\n",
       "      <td>0.836610</td>\n",
       "      <td>0.88776</td>\n",
       "      <td>0.291098</td>\n",
       "      <td>0.384584</td>\n",
       "      <td>0.838097</td>\n",
       "      <td>0.603409</td>\n",
       "      <td>0.711302</td>\n",
       "      <td>0.306264</td>\n",
       "      <td>0.865342</td>\n",
       "      <td>0.804914</td>\n",
       "      <td>0.431419</td>\n",
       "    </tr>\n",
       "    <tr>\n",
       "      <th>6</th>\n",
       "      <td>17500</td>\n",
       "      <td>0.836960</td>\n",
       "      <td>0.87796</td>\n",
       "      <td>0.284541</td>\n",
       "      <td>0.399323</td>\n",
       "      <td>0.802388</td>\n",
       "      <td>0.533752</td>\n",
       "      <td>0.758662</td>\n",
       "      <td>0.327960</td>\n",
       "      <td>0.846395</td>\n",
       "      <td>0.802481</td>\n",
       "      <td>0.420345</td>\n",
       "    </tr>\n",
       "    <tr>\n",
       "      <th>7</th>\n",
       "      <td>20000</td>\n",
       "      <td>0.837186</td>\n",
       "      <td>0.86952</td>\n",
       "      <td>0.295274</td>\n",
       "      <td>0.342940</td>\n",
       "      <td>0.852708</td>\n",
       "      <td>0.757434</td>\n",
       "      <td>0.554383</td>\n",
       "      <td>0.302919</td>\n",
       "      <td>0.877211</td>\n",
       "      <td>0.761434</td>\n",
       "      <td>0.467764</td>\n",
       "    </tr>\n",
       "    <tr>\n",
       "      <th>8</th>\n",
       "      <td>22500</td>\n",
       "      <td>0.837203</td>\n",
       "      <td>0.88560</td>\n",
       "      <td>0.271968</td>\n",
       "      <td>0.340548</td>\n",
       "      <td>0.849322</td>\n",
       "      <td>0.744779</td>\n",
       "      <td>0.553771</td>\n",
       "      <td>0.306925</td>\n",
       "      <td>0.871184</td>\n",
       "      <td>0.758092</td>\n",
       "      <td>0.464084</td>\n",
       "    </tr>\n",
       "    <tr>\n",
       "      <th>9</th>\n",
       "      <td>25000</td>\n",
       "      <td>0.837535</td>\n",
       "      <td>0.87224</td>\n",
       "      <td>0.297661</td>\n",
       "      <td>0.328276</td>\n",
       "      <td>0.859642</td>\n",
       "      <td>0.663371</td>\n",
       "      <td>0.627818</td>\n",
       "      <td>0.302332</td>\n",
       "      <td>0.879158</td>\n",
       "      <td>0.788873</td>\n",
       "      <td>0.431326</td>\n",
       "    </tr>\n",
       "  </tbody>\n",
       "</table>\n",
       "</div>"
      ],
      "text/plain": [
       "   subset_size  r2_value  test_accuracy  test_loss  sst2_loss  sst2_accuracy  \\\n",
       "0         2500  0.827268        0.84924   0.354975   0.398396       0.816389   \n",
       "1         5000  0.832992        0.86464   0.315146   0.355875       0.850881   \n",
       "2         7500  0.834808        0.87212   0.309031   0.377850       0.838468   \n",
       "3        10000  0.835812        0.87452   0.291922   0.340700       0.858825   \n",
       "4        12500  0.836299        0.87344   0.298309   0.353231       0.844912   \n",
       "5        15000  0.836610        0.88776   0.291098   0.384584       0.838097   \n",
       "6        17500  0.836960        0.87796   0.284541   0.399323       0.802388   \n",
       "7        20000  0.837186        0.86952   0.295274   0.342940       0.852708   \n",
       "8        22500  0.837203        0.88560   0.271968   0.340548       0.849322   \n",
       "9        25000  0.837535        0.87224   0.297661   0.328276       0.859642   \n",
       "\n",
       "   tweet_eval_loss  tweet_eval_accuracy  yelp_loss  yelp_accuracy  \\\n",
       "0         0.691981             0.589606   0.309053       0.878421   \n",
       "1         0.721297             0.605021   0.287472       0.883947   \n",
       "2         0.692778             0.608262   0.281490       0.885974   \n",
       "3         0.639589             0.648239   0.275166       0.885421   \n",
       "4         0.703618             0.633545   0.316007       0.860895   \n",
       "5         0.603409             0.711302   0.306264       0.865342   \n",
       "6         0.533752             0.758662   0.327960       0.846395   \n",
       "7         0.757434             0.554383   0.302919       0.877211   \n",
       "8         0.744779             0.553771   0.306925       0.871184   \n",
       "9         0.663371             0.627818   0.302332       0.879158   \n",
       "\n",
       "   mean_odd_accuracy  mean_odd_loss  \n",
       "0           0.761472       0.466477  \n",
       "1           0.779950       0.454881  \n",
       "2           0.777568       0.450706  \n",
       "3           0.797495       0.418485  \n",
       "4           0.779784       0.457619  \n",
       "5           0.804914       0.431419  \n",
       "6           0.802481       0.420345  \n",
       "7           0.761434       0.467764  \n",
       "8           0.758092       0.464084  \n",
       "9           0.788873       0.431326  "
      ]
     },
     "execution_count": 11,
     "metadata": {},
     "output_type": "execute_result"
    }
   ],
   "source": [
    "results_df['mean_odd_accuracy'] = results_df[['sst2_accuracy', 'tweet_eval_accuracy', 'yelp_accuracy']].mean(axis=1)\n",
    "results_df['mean_odd_loss'] = results_df[['sst2_loss', 'tweet_eval_loss', 'yelp_loss']].mean(axis=1)\n",
    "results_df"
   ]
  },
  {
   "cell_type": "code",
   "execution_count": 12,
   "metadata": {},
   "outputs": [
    {
     "data": {
      "text/plain": [
       "[(0.82, 0.85)]"
      ]
     },
     "execution_count": 12,
     "metadata": {},
     "output_type": "execute_result"
    },
    {
     "data": {
      "image/png": "[encoded data removed]",
      "text/plain": [
       "<Figure size 640x480 with 1 Axes>"
      ]
     },
     "metadata": {},
     "output_type": "display_data"
    }
   ],
   "source": [
    "plot = sns.barplot(x=results_df['subset_size'], y=results_df['r2_value'])\n",
    "plot.set(ylim=(0.82, 0.85))"
   ]
  },
  {
   "cell_type": "code",
   "execution_count": 13,
   "metadata": {},
   "outputs": [
    {
     "data": {
      "text/plain": [
       "[(0.7, 0.9)]"
      ]
     },
     "execution_count": 13,
     "metadata": {},
     "output_type": "execute_result"
    },
    {
     "data": {
      "image/png": "[encoded data removed]",
      "text/plain": [
       "<Figure size 640x480 with 1 Axes>"
      ]
     },
     "metadata": {},
     "output_type": "display_data"
    }
   ],
   "source": [
    "plot = sns.barplot(x=results_df['subset_size'], y=results_df['mean_odd_accuracy'])\n",
    "plot.set(ylim=(0.7, 0.9))"
   ]
  },
  {
   "cell_type": "code",
   "execution_count": 14,
   "metadata": {},
   "outputs": [
    {
     "data": {
      "text/plain": [
       "[(0.4, 0.6)]"
      ]
     },
     "execution_count": 14,
     "metadata": {},
     "output_type": "execute_result"
    },
    {
     "data": {
      "image/png": "[encoded data removed]",
      "text/plain": [
       "<Figure size 640x480 with 1 Axes>"
      ]
     },
     "metadata": {},
     "output_type": "display_data"
    }
   ],
   "source": [
    "plot = sns.barplot(x=results_df['subset_size'], y=results_df['mean_odd_loss'])\n",
    "plot.set(ylim=(0.4, 0.6))"
   ]
  },
  {
   "cell_type": "code",
   "execution_count": 15,
   "metadata": {},
   "outputs": [
    {
     "data": {
      "text/plain": [
       "[(0.4, 0.9)]"
      ]
     },
     "execution_count": 15,
     "metadata": {},
     "output_type": "execute_result"
    },
    {
     "data": {
      "image/png": "[encoded data removed]",
      "text/plain": [
       "<Figure size 640x480 with 1 Axes>"
      ]
     },
     "metadata": {},
     "output_type": "display_data"
    }
   ],
   "source": [
    "plot = sns.barplot(x=results_df['subset_size'], y=results_df['mean_odd_accuracy'], alpha=0.7)\n",
    "plot = sns.barplot(x=results_df['subset_size'], y=results_df['mean_odd_loss'], alpha=0.7)\n",
    "plot.set(ylim=(0.4, 0.9))\n"
   ]
  },
  {
   "cell_type": "code",
   "execution_count": 16,
   "metadata": {},
   "outputs": [
    {
     "data": {
      "text/plain": [
       "[(0.2, 0.9)]"
      ]
     },
     "execution_count": 16,
     "metadata": {},
     "output_type": "execute_result"
    },
    {
     "data": {
      "image/png": "[encoded data removed]",
      "text/plain": [
       "<Figure size 640x480 with 1 Axes>"
      ]
     },
     "metadata": {},
     "output_type": "display_data"
    }
   ],
   "source": [
    "plot = sns.barplot(x=results_df['subset_size'], y=results_df['test_accuracy'], alpha=0.7)\n",
    "plot = sns.barplot(x=results_df['subset_size'], y=results_df['test_loss'], alpha=0.7)\n",
    "plot.set(ylim=(0.2, 0.9))"
   ]
  },
  {
   "cell_type": "code",
   "execution_count": 17,
   "metadata": {},
   "outputs": [
    {
     "data": {
      "text/plain": [
       "<matplotlib.lines.Line2D at 0x17e3508d0>"
      ]
     },
     "execution_count": 17,
     "metadata": {},
     "output_type": "execute_result"
    },
    {
     "data": {
      "image/png": "[encoded data removed]",
      "text/plain": [
       "<Figure size 640x480 with 1 Axes>"
      ]
     },
     "metadata": {},
     "output_type": "display_data"
    }
   ],
   "source": [
    "graph = sns.lineplot(x=results_df['subset_size'], y=results_df['r2_value'], marker=\"o\")\n",
    "graph.axhline(variance_metrics['full_set_var_sum'], color='red')"
   ]
  },
  {
   "cell_type": "markdown",
   "metadata": {},
   "source": [
    "# RoBERTa"
   ]
  },
  {
   "cell_type": "code",
   "execution_count": null,
   "metadata": {},
   "outputs": [],
   "source": []
  },
  {
   "cell_type": "code",
   "execution_count": null,
   "metadata": {},
   "outputs": [],
   "source": [
    "file_list = glob.glob('./Eval-Results-roberta-base/*')\n",
    "\n",
    "odd_results = {}\n",
    "for file in file_list:\n",
    "    key = get_key(file)\n",
    "    with open(file, 'r') as f:\n",
    "        data = f.read()\n",
    "        odd_results[key] = data\n",
    "        # process the data as needed"
   ]
  },
  {
   "cell_type": "code",
   "execution_count": null,
   "metadata": {},
   "outputs": [],
   "source": []
  }
 ],
 "metadata": {
  "kernelspec": {
   "display_name": "py11-env",
   "language": "python",
   "name": "python3"
  },
  "language_info": {
   "codemirror_mode": {
    "name": "ipython",
    "version": 3
   },
   "file_extension": ".py",
   "mimetype": "text/x-python",
   "name": "python",
   "nbconvert_exporter": "python",
   "pygments_lexer": "ipython3",
   "version": "3.11.6"
  }
 },
 "nbformat": 4,
 "nbformat_minor": 2
}
