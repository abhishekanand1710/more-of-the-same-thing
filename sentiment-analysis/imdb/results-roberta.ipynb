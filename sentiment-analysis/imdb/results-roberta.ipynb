{
 "cells": [
  {
   "cell_type": "code",
   "execution_count": 1,
   "metadata": {},
   "outputs": [],
   "source": [
    "import numpy as np\n",
    "import pandas as pd\n",
    "import matplotlib.pyplot as plt\n",
    "import seaborn as sns\n",
    "import json\n",
    "import os\n",
    "import glob"
   ]
  },
  {
   "cell_type": "markdown",
   "metadata": {},
   "source": [
    "# RoBERTa"
   ]
  },
  {
   "cell_type": "code",
   "execution_count": 8,
   "metadata": {},
   "outputs": [
    {
     "name": "stdout",
     "output_type": "stream",
     "text": [
      "{'variance_metrics': {'full_set_var_sum': 0.8980025053024292, 'full_set_var_values': [0.04482906311750412, 0.039884280413389206, 0.03169308602809906, 0.027907313778996468, 0.025220295414328575, 0.02330113761126995, 0.022792628034949303, 0.0194107498973608, 0.018278632313013077, 0.01663162000477314, 0.015545649453997612, 0.013401452451944351, 0.012814326211810112, 0.012555957771837711, 0.01156114973127842, 0.011108013801276684, 0.01060487050563097, 0.009991820901632309, 0.009790664538741112, 0.009214677847921848, 0.008950229734182358, 0.008375688455998898, 0.008317716419696808, 0.007897605188190937, 0.007595664355903864, 0.007337720133364201, 0.0070480359718203545, 0.006952623371034861, 0.006645721383392811, 0.006595470942556858, 0.006302056834101677, 0.006221166346222162, 0.0060545396991074085, 0.005912508815526962, 0.005736500956118107, 0.005545713007450104, 0.005422290414571762, 0.00534049142152071, 0.00530272675678134, 0.005182892084121704, 0.005122673232108355, 0.0050509837456047535, 0.005007157102227211, 0.004935098346322775, 0.004866804927587509, 0.004798752721399069, 0.004761809948831797, 0.004730218555778265, 0.004613166209310293, 0.004575015511363745, 0.004535824991762638, 0.00449330871924758, 0.00440814858302474, 0.00435115210711956, 0.004302258603274822, 0.004272240214049816, 0.004234014078974724, 0.0041641173884272575, 0.004115753341466188, 0.004018461797386408, 0.0039915344677865505, 0.00395771861076355, 0.003940426278859377, 0.0039070239290595055, 0.003878206480294466, 0.0038024303503334522, 0.003759742481634021, 0.0037210581358522177, 0.003670899197459221, 0.0036412994377315044, 0.0036178305745124817, 0.003568314015865326, 0.0035652732476592064, 0.003517195815220475, 0.0034537736792117357, 0.003387896344065666, 0.0033808338921517134, 0.003339173039421439, 0.0033178830053657293, 0.0032901426311582327, 0.0032495451159775257, 0.0032197132240980864, 0.003199236234650016, 0.003134259022772312, 0.0030925306491553783, 0.003072962863370776, 0.0030241531785577536, 0.0029912421014159918, 0.0029504273552447557, 0.0029152773786336184, 0.0029003277886658907, 0.002829194301739335, 0.0028208126313984394, 0.0027824523858726025, 0.002754781860858202, 0.002735177055001259, 0.0026942885015159845, 0.0026799498591572046, 0.002639123471453786, 0.0026143479626625776, 0.0025899983011186123, 0.0025626877322793007, 0.0025239037349820137, 0.0025120216887444258, 0.00244448846206069, 0.0024277970660477877, 0.002400278579443693, 0.0023899220395833254, 0.002331953728571534, 0.0023163461592048407, 0.002292418386787176, 0.0022802958264946938, 0.0022335737012326717, 0.00220349058508873, 0.0021904027089476585, 0.0021639978513121605, 0.002139486139640212, 0.002113651018589735, 0.0020751270931214094, 0.0020471124444156885, 0.002023096662014723, 0.0020094704814255238, 0.001997389830648899, 0.0019937725737690926, 0.0019594673067331314, 0.001929227146320045, 0.0019232898484915495, 0.001900338800624013, 0.0018617893802002072, 0.0018469156930223107, 0.0018380135297775269, 0.00180429860483855, 0.001777445082552731, 0.0017580261919647455, 0.0017477209912613034, 0.001736924285069108, 0.0017238659784197807, 0.0016915310407057405, 0.0016614097403362393, 0.0016493817092850804, 0.0016274276422336698, 0.0016215468058362603, 0.0016008910024538636, 0.0015932205133140087, 0.0015754937194287777, 0.0015602742787450552, 0.0015456335386261344, 0.0015372908674180508, 0.001525816973298788, 0.0015048377681523561, 0.0014899128582328558, 0.0014782182406634092, 0.0014610326616093516, 0.0014456144999712706, 0.0014162941370159388, 0.0013950386783108115, 0.0013747422490268946, 0.0013509760610759258, 0.001333982334472239, 0.0013274559751152992, 0.0013151770690456033, 0.0013028691755607724, 0.0012941242894157767, 0.0012749345041811466, 0.0012664881069213152, 0.0012579530011862516, 0.0012440247228369117, 0.0012402371503412724, 0.0012329744640737772, 0.0012205054517835379, 0.001214943709783256, 0.0011743323411792517, 0.0011722489725798368, 0.0011622211895883083, 0.0011442839168012142, 0.001131023047491908, 0.001121731474995613, 0.001117891981266439, 0.0011056786170229316, 0.0010982220992445946, 0.001084973686374724, 0.001077913912013173, 0.0010619147215038538, 0.0010444740764796734, 0.001033711014315486, 0.0010125262197107077, 0.0009991868864744902, 0.000991720356978476, 0.0009867671178653836, 0.0009779200190678239, 0.0009730163146741688, 0.0009520893217995763, 0.0009434951934963465, 0.000933981966227293, 0.0009266785345971584, 0.0009111018152907491, 0.0009043156169354916, 0.0008799098432064056, 0.0008721027988940477, 0.0008646180504001677], 'subsets_self_expl_vars': [0.9099687337875366, 0.9029383063316345, 0.900516152381897, 0.899639368057251, 0.8993982076644897, 0.898940920829773, 0.8987398147583008, 0.8982941508293152, 0.898094117641449, 0.8979914784431458], 'r2_values': [0.8870486591138649, 0.8930879923119861, 0.89518950809871, 0.8962570801916665, 0.897006641255916, 0.8973546288666676, 0.8976835776365871, 0.8978446023564972, 0.8980875001717864, 0.8982464138792486], 'subset_sizes': [2500, 5000, 7500, 10000, 12500, 15000, 17500, 20000, 22500, 25000]}, 'modelling_metrics': {'subset_size': [2500, 5000, 7500, 10000, 12500, 15000, 17500, 20000, 22500, 25000], 'test_accuracies': [0.8818, 0.88252, 0.89428, 0.8922, 0.90108, 0.89912, 0.90104, 0.89888, 0.9002, 0.90496], 'test_losses': [0.32870280742645264, 0.2757122814655304, 0.2696215510368347, 0.25755637884140015, 0.2616974115371704, 0.26466870307922363, 0.2645717263221741, 0.25178614258766174, 0.27990618348121643, 0.2558138966560364]}}\n"
     ]
    }
   ],
   "source": [
    "with open('run-metrics-roberta-base.json', 'r') as f:\n",
    "    data = json.load(f)\n",
    "print(data)"
   ]
  },
  {
   "cell_type": "code",
   "execution_count": 9,
   "metadata": {},
   "outputs": [],
   "source": [
    "variance_metrics = data['variance_metrics']\n",
    "modelling_metrics = data['modelling_metrics']\n",
    "subset_sizes = modelling_metrics['subset_size']"
   ]
  },
  {
   "cell_type": "code",
   "execution_count": 10,
   "metadata": {},
   "outputs": [],
   "source": [
    "def get_key(filename):\n",
    "    return filename.split('/')[2].split('-')[2].split('.')[0].lower()"
   ]
  },
  {
   "cell_type": "code",
   "execution_count": 11,
   "metadata": {},
   "outputs": [],
   "source": [
    "file_list = glob.glob('./Eval-Results-roberta-base/*')\n",
    "\n",
    "odd_results = {}\n",
    "for file in file_list:\n",
    "    key = get_key(file)\n",
    "    with open(file, 'r') as f:\n",
    "        data = f.read()\n",
    "        odd_results[key] = data\n",
    "        # process the data as needed\n"
   ]
  },
  {
   "cell_type": "code",
   "execution_count": 12,
   "metadata": {},
   "outputs": [],
   "source": [
    "results = {}"
   ]
  },
  {
   "cell_type": "code",
   "execution_count": 13,
   "metadata": {},
   "outputs": [],
   "source": [
    "results['subset_size'] = modelling_metrics['subset_size']\n",
    "results['r2_value'] = variance_metrics['r2_values']\n",
    "results['test_accuracy'] = modelling_metrics['test_accuracies']\n",
    "results['test_loss'] = modelling_metrics['test_losses']"
   ]
  },
  {
   "cell_type": "code",
   "execution_count": 14,
   "metadata": {},
   "outputs": [],
   "source": [
    "subset_sizes = modelling_metrics['subset_size']\n",
    "\n",
    "for key, values in odd_results.items():\n",
    "    values = json.loads(values)\n",
    "    metrics = values['evaluation_metrics']\n",
    "    losses = []\n",
    "    accuracies = []\n",
    "    for metric in metrics:\n",
    "        loss = metric['eval_loss']\n",
    "        acc = metric['eval_accuracy']\n",
    "        losses.append(loss)\n",
    "        accuracies.append(acc)\n",
    "\n",
    "    results[f\"{key}_loss\"] = losses\n",
    "    results[f\"{key}_accuracy\"] = accuracies"
   ]
  },
  {
   "cell_type": "code",
   "execution_count": 15,
   "metadata": {},
   "outputs": [
    {
     "data": {
      "text/html": [
       "<div>\n",
       "<style scoped>\n",
       "    .dataframe tbody tr th:only-of-type {\n",
       "        vertical-align: middle;\n",
       "    }\n",
       "\n",
       "    .dataframe tbody tr th {\n",
       "        vertical-align: top;\n",
       "    }\n",
       "\n",
       "    .dataframe thead th {\n",
       "        text-align: right;\n",
       "    }\n",
       "</style>\n",
       "<table border=\"1\" class=\"dataframe\">\n",
       "  <thead>\n",
       "    <tr style=\"text-align: right;\">\n",
       "      <th></th>\n",
       "      <th>subset_size</th>\n",
       "      <th>r2_value</th>\n",
       "      <th>test_accuracy</th>\n",
       "      <th>test_loss</th>\n",
       "      <th>sst2_loss</th>\n",
       "      <th>sst2_accuracy</th>\n",
       "      <th>tweet_eval_loss</th>\n",
       "      <th>tweet_eval_accuracy</th>\n",
       "      <th>yelp_loss</th>\n",
       "      <th>yelp_accuracy</th>\n",
       "    </tr>\n",
       "  </thead>\n",
       "  <tbody>\n",
       "    <tr>\n",
       "      <th>0</th>\n",
       "      <td>2500</td>\n",
       "      <td>0.887049</td>\n",
       "      <td>0.88180</td>\n",
       "      <td>0.328703</td>\n",
       "      <td>0.344351</td>\n",
       "      <td>0.860473</td>\n",
       "      <td>0.782964</td>\n",
       "      <td>0.681265</td>\n",
       "      <td>0.224530</td>\n",
       "      <td>0.913211</td>\n",
       "    </tr>\n",
       "    <tr>\n",
       "      <th>1</th>\n",
       "      <td>5000</td>\n",
       "      <td>0.893088</td>\n",
       "      <td>0.88252</td>\n",
       "      <td>0.275712</td>\n",
       "      <td>0.335143</td>\n",
       "      <td>0.852010</td>\n",
       "      <td>0.643258</td>\n",
       "      <td>0.662969</td>\n",
       "      <td>0.277022</td>\n",
       "      <td>0.879053</td>\n",
       "    </tr>\n",
       "    <tr>\n",
       "      <th>2</th>\n",
       "      <td>7500</td>\n",
       "      <td>0.895190</td>\n",
       "      <td>0.89428</td>\n",
       "      <td>0.269622</td>\n",
       "      <td>0.378327</td>\n",
       "      <td>0.826857</td>\n",
       "      <td>0.681977</td>\n",
       "      <td>0.648131</td>\n",
       "      <td>0.244752</td>\n",
       "      <td>0.900947</td>\n",
       "    </tr>\n",
       "    <tr>\n",
       "      <th>3</th>\n",
       "      <td>10000</td>\n",
       "      <td>0.896257</td>\n",
       "      <td>0.89220</td>\n",
       "      <td>0.257556</td>\n",
       "      <td>0.368519</td>\n",
       "      <td>0.834459</td>\n",
       "      <td>0.624868</td>\n",
       "      <td>0.680400</td>\n",
       "      <td>0.248905</td>\n",
       "      <td>0.911605</td>\n",
       "    </tr>\n",
       "    <tr>\n",
       "      <th>4</th>\n",
       "      <td>12500</td>\n",
       "      <td>0.897007</td>\n",
       "      <td>0.90108</td>\n",
       "      <td>0.261697</td>\n",
       "      <td>0.420387</td>\n",
       "      <td>0.814622</td>\n",
       "      <td>0.594228</td>\n",
       "      <td>0.726536</td>\n",
       "      <td>0.255291</td>\n",
       "      <td>0.887184</td>\n",
       "    </tr>\n",
       "    <tr>\n",
       "      <th>5</th>\n",
       "      <td>15000</td>\n",
       "      <td>0.897355</td>\n",
       "      <td>0.89912</td>\n",
       "      <td>0.264669</td>\n",
       "      <td>0.442472</td>\n",
       "      <td>0.820220</td>\n",
       "      <td>0.729240</td>\n",
       "      <td>0.663293</td>\n",
       "      <td>0.227611</td>\n",
       "      <td>0.909763</td>\n",
       "    </tr>\n",
       "    <tr>\n",
       "      <th>6</th>\n",
       "      <td>17500</td>\n",
       "      <td>0.897684</td>\n",
       "      <td>0.90104</td>\n",
       "      <td>0.264572</td>\n",
       "      <td>0.400656</td>\n",
       "      <td>0.835469</td>\n",
       "      <td>0.639599</td>\n",
       "      <td>0.723511</td>\n",
       "      <td>0.247850</td>\n",
       "      <td>0.890316</td>\n",
       "    </tr>\n",
       "    <tr>\n",
       "      <th>7</th>\n",
       "      <td>20000</td>\n",
       "      <td>0.897845</td>\n",
       "      <td>0.89888</td>\n",
       "      <td>0.251786</td>\n",
       "      <td>0.369458</td>\n",
       "      <td>0.835365</td>\n",
       "      <td>0.629579</td>\n",
       "      <td>0.688000</td>\n",
       "      <td>0.239456</td>\n",
       "      <td>0.897632</td>\n",
       "    </tr>\n",
       "    <tr>\n",
       "      <th>8</th>\n",
       "      <td>22500</td>\n",
       "      <td>0.898088</td>\n",
       "      <td>0.90020</td>\n",
       "      <td>0.279906</td>\n",
       "      <td>0.378775</td>\n",
       "      <td>0.848431</td>\n",
       "      <td>0.668847</td>\n",
       "      <td>0.707772</td>\n",
       "      <td>0.234045</td>\n",
       "      <td>0.905605</td>\n",
       "    </tr>\n",
       "    <tr>\n",
       "      <th>9</th>\n",
       "      <td>25000</td>\n",
       "      <td>0.898246</td>\n",
       "      <td>0.90496</td>\n",
       "      <td>0.255814</td>\n",
       "      <td>0.431549</td>\n",
       "      <td>0.822521</td>\n",
       "      <td>0.594432</td>\n",
       "      <td>0.743391</td>\n",
       "      <td>0.260168</td>\n",
       "      <td>0.882368</td>\n",
       "    </tr>\n",
       "  </tbody>\n",
       "</table>\n",
       "</div>"
      ],
      "text/plain": [
       "   subset_size  r2_value  test_accuracy  test_loss  sst2_loss  sst2_accuracy  \\\n",
       "0         2500  0.887049        0.88180   0.328703   0.344351       0.860473   \n",
       "1         5000  0.893088        0.88252   0.275712   0.335143       0.852010   \n",
       "2         7500  0.895190        0.89428   0.269622   0.378327       0.826857   \n",
       "3        10000  0.896257        0.89220   0.257556   0.368519       0.834459   \n",
       "4        12500  0.897007        0.90108   0.261697   0.420387       0.814622   \n",
       "5        15000  0.897355        0.89912   0.264669   0.442472       0.820220   \n",
       "6        17500  0.897684        0.90104   0.264572   0.400656       0.835469   \n",
       "7        20000  0.897845        0.89888   0.251786   0.369458       0.835365   \n",
       "8        22500  0.898088        0.90020   0.279906   0.378775       0.848431   \n",
       "9        25000  0.898246        0.90496   0.255814   0.431549       0.822521   \n",
       "\n",
       "   tweet_eval_loss  tweet_eval_accuracy  yelp_loss  yelp_accuracy  \n",
       "0         0.782964             0.681265   0.224530       0.913211  \n",
       "1         0.643258             0.662969   0.277022       0.879053  \n",
       "2         0.681977             0.648131   0.244752       0.900947  \n",
       "3         0.624868             0.680400   0.248905       0.911605  \n",
       "4         0.594228             0.726536   0.255291       0.887184  \n",
       "5         0.729240             0.663293   0.227611       0.909763  \n",
       "6         0.639599             0.723511   0.247850       0.890316  \n",
       "7         0.629579             0.688000   0.239456       0.897632  \n",
       "8         0.668847             0.707772   0.234045       0.905605  \n",
       "9         0.594432             0.743391   0.260168       0.882368  "
      ]
     },
     "execution_count": 15,
     "metadata": {},
     "output_type": "execute_result"
    }
   ],
   "source": [
    "results_df = pd.DataFrame(results)\n",
    "results_df"
   ]
  },
  {
   "cell_type": "code",
   "execution_count": 16,
   "metadata": {},
   "outputs": [
    {
     "data": {
      "text/html": [
       "<div>\n",
       "<style scoped>\n",
       "    .dataframe tbody tr th:only-of-type {\n",
       "        vertical-align: middle;\n",
       "    }\n",
       "\n",
       "    .dataframe tbody tr th {\n",
       "        vertical-align: top;\n",
       "    }\n",
       "\n",
       "    .dataframe thead th {\n",
       "        text-align: right;\n",
       "    }\n",
       "</style>\n",
       "<table border=\"1\" class=\"dataframe\">\n",
       "  <thead>\n",
       "    <tr style=\"text-align: right;\">\n",
       "      <th></th>\n",
       "      <th>subset_size</th>\n",
       "      <th>r2_value</th>\n",
       "      <th>test_accuracy</th>\n",
       "      <th>test_loss</th>\n",
       "      <th>sst2_loss</th>\n",
       "      <th>sst2_accuracy</th>\n",
       "      <th>tweet_eval_loss</th>\n",
       "      <th>tweet_eval_accuracy</th>\n",
       "      <th>yelp_loss</th>\n",
       "      <th>yelp_accuracy</th>\n",
       "      <th>mean_odd_accuracy</th>\n",
       "      <th>mean_odd_loss</th>\n",
       "    </tr>\n",
       "  </thead>\n",
       "  <tbody>\n",
       "    <tr>\n",
       "      <th>0</th>\n",
       "      <td>2500</td>\n",
       "      <td>0.887049</td>\n",
       "      <td>0.88180</td>\n",
       "      <td>0.328703</td>\n",
       "      <td>0.344351</td>\n",
       "      <td>0.860473</td>\n",
       "      <td>0.782964</td>\n",
       "      <td>0.681265</td>\n",
       "      <td>0.224530</td>\n",
       "      <td>0.913211</td>\n",
       "      <td>0.818316</td>\n",
       "      <td>0.450615</td>\n",
       "    </tr>\n",
       "    <tr>\n",
       "      <th>1</th>\n",
       "      <td>5000</td>\n",
       "      <td>0.893088</td>\n",
       "      <td>0.88252</td>\n",
       "      <td>0.275712</td>\n",
       "      <td>0.335143</td>\n",
       "      <td>0.852010</td>\n",
       "      <td>0.643258</td>\n",
       "      <td>0.662969</td>\n",
       "      <td>0.277022</td>\n",
       "      <td>0.879053</td>\n",
       "      <td>0.798010</td>\n",
       "      <td>0.418475</td>\n",
       "    </tr>\n",
       "    <tr>\n",
       "      <th>2</th>\n",
       "      <td>7500</td>\n",
       "      <td>0.895190</td>\n",
       "      <td>0.89428</td>\n",
       "      <td>0.269622</td>\n",
       "      <td>0.378327</td>\n",
       "      <td>0.826857</td>\n",
       "      <td>0.681977</td>\n",
       "      <td>0.648131</td>\n",
       "      <td>0.244752</td>\n",
       "      <td>0.900947</td>\n",
       "      <td>0.791978</td>\n",
       "      <td>0.435019</td>\n",
       "    </tr>\n",
       "    <tr>\n",
       "      <th>3</th>\n",
       "      <td>10000</td>\n",
       "      <td>0.896257</td>\n",
       "      <td>0.89220</td>\n",
       "      <td>0.257556</td>\n",
       "      <td>0.368519</td>\n",
       "      <td>0.834459</td>\n",
       "      <td>0.624868</td>\n",
       "      <td>0.680400</td>\n",
       "      <td>0.248905</td>\n",
       "      <td>0.911605</td>\n",
       "      <td>0.808822</td>\n",
       "      <td>0.414097</td>\n",
       "    </tr>\n",
       "    <tr>\n",
       "      <th>4</th>\n",
       "      <td>12500</td>\n",
       "      <td>0.897007</td>\n",
       "      <td>0.90108</td>\n",
       "      <td>0.261697</td>\n",
       "      <td>0.420387</td>\n",
       "      <td>0.814622</td>\n",
       "      <td>0.594228</td>\n",
       "      <td>0.726536</td>\n",
       "      <td>0.255291</td>\n",
       "      <td>0.887184</td>\n",
       "      <td>0.809448</td>\n",
       "      <td>0.423302</td>\n",
       "    </tr>\n",
       "    <tr>\n",
       "      <th>5</th>\n",
       "      <td>15000</td>\n",
       "      <td>0.897355</td>\n",
       "      <td>0.89912</td>\n",
       "      <td>0.264669</td>\n",
       "      <td>0.442472</td>\n",
       "      <td>0.820220</td>\n",
       "      <td>0.729240</td>\n",
       "      <td>0.663293</td>\n",
       "      <td>0.227611</td>\n",
       "      <td>0.909763</td>\n",
       "      <td>0.797759</td>\n",
       "      <td>0.466441</td>\n",
       "    </tr>\n",
       "    <tr>\n",
       "      <th>6</th>\n",
       "      <td>17500</td>\n",
       "      <td>0.897684</td>\n",
       "      <td>0.90104</td>\n",
       "      <td>0.264572</td>\n",
       "      <td>0.400656</td>\n",
       "      <td>0.835469</td>\n",
       "      <td>0.639599</td>\n",
       "      <td>0.723511</td>\n",
       "      <td>0.247850</td>\n",
       "      <td>0.890316</td>\n",
       "      <td>0.816432</td>\n",
       "      <td>0.429368</td>\n",
       "    </tr>\n",
       "    <tr>\n",
       "      <th>7</th>\n",
       "      <td>20000</td>\n",
       "      <td>0.897845</td>\n",
       "      <td>0.89888</td>\n",
       "      <td>0.251786</td>\n",
       "      <td>0.369458</td>\n",
       "      <td>0.835365</td>\n",
       "      <td>0.629579</td>\n",
       "      <td>0.688000</td>\n",
       "      <td>0.239456</td>\n",
       "      <td>0.897632</td>\n",
       "      <td>0.806999</td>\n",
       "      <td>0.412831</td>\n",
       "    </tr>\n",
       "    <tr>\n",
       "      <th>8</th>\n",
       "      <td>22500</td>\n",
       "      <td>0.898088</td>\n",
       "      <td>0.90020</td>\n",
       "      <td>0.279906</td>\n",
       "      <td>0.378775</td>\n",
       "      <td>0.848431</td>\n",
       "      <td>0.668847</td>\n",
       "      <td>0.707772</td>\n",
       "      <td>0.234045</td>\n",
       "      <td>0.905605</td>\n",
       "      <td>0.820603</td>\n",
       "      <td>0.427223</td>\n",
       "    </tr>\n",
       "    <tr>\n",
       "      <th>9</th>\n",
       "      <td>25000</td>\n",
       "      <td>0.898246</td>\n",
       "      <td>0.90496</td>\n",
       "      <td>0.255814</td>\n",
       "      <td>0.431549</td>\n",
       "      <td>0.822521</td>\n",
       "      <td>0.594432</td>\n",
       "      <td>0.743391</td>\n",
       "      <td>0.260168</td>\n",
       "      <td>0.882368</td>\n",
       "      <td>0.816094</td>\n",
       "      <td>0.428716</td>\n",
       "    </tr>\n",
       "  </tbody>\n",
       "</table>\n",
       "</div>"
      ],
      "text/plain": [
       "   subset_size  r2_value  test_accuracy  test_loss  sst2_loss  sst2_accuracy  \\\n",
       "0         2500  0.887049        0.88180   0.328703   0.344351       0.860473   \n",
       "1         5000  0.893088        0.88252   0.275712   0.335143       0.852010   \n",
       "2         7500  0.895190        0.89428   0.269622   0.378327       0.826857   \n",
       "3        10000  0.896257        0.89220   0.257556   0.368519       0.834459   \n",
       "4        12500  0.897007        0.90108   0.261697   0.420387       0.814622   \n",
       "5        15000  0.897355        0.89912   0.264669   0.442472       0.820220   \n",
       "6        17500  0.897684        0.90104   0.264572   0.400656       0.835469   \n",
       "7        20000  0.897845        0.89888   0.251786   0.369458       0.835365   \n",
       "8        22500  0.898088        0.90020   0.279906   0.378775       0.848431   \n",
       "9        25000  0.898246        0.90496   0.255814   0.431549       0.822521   \n",
       "\n",
       "   tweet_eval_loss  tweet_eval_accuracy  yelp_loss  yelp_accuracy  \\\n",
       "0         0.782964             0.681265   0.224530       0.913211   \n",
       "1         0.643258             0.662969   0.277022       0.879053   \n",
       "2         0.681977             0.648131   0.244752       0.900947   \n",
       "3         0.624868             0.680400   0.248905       0.911605   \n",
       "4         0.594228             0.726536   0.255291       0.887184   \n",
       "5         0.729240             0.663293   0.227611       0.909763   \n",
       "6         0.639599             0.723511   0.247850       0.890316   \n",
       "7         0.629579             0.688000   0.239456       0.897632   \n",
       "8         0.668847             0.707772   0.234045       0.905605   \n",
       "9         0.594432             0.743391   0.260168       0.882368   \n",
       "\n",
       "   mean_odd_accuracy  mean_odd_loss  \n",
       "0           0.818316       0.450615  \n",
       "1           0.798010       0.418475  \n",
       "2           0.791978       0.435019  \n",
       "3           0.808822       0.414097  \n",
       "4           0.809448       0.423302  \n",
       "5           0.797759       0.466441  \n",
       "6           0.816432       0.429368  \n",
       "7           0.806999       0.412831  \n",
       "8           0.820603       0.427223  \n",
       "9           0.816094       0.428716  "
      ]
     },
     "execution_count": 16,
     "metadata": {},
     "output_type": "execute_result"
    }
   ],
   "source": [
    "results_df['mean_odd_accuracy'] = results_df[['sst2_accuracy', 'tweet_eval_accuracy', 'yelp_accuracy']].mean(axis=1)\n",
    "results_df['mean_odd_loss'] = results_df[['sst2_loss', 'tweet_eval_loss', 'yelp_loss']].mean(axis=1)\n",
    "results_df"
   ]
  },
  {
   "cell_type": "code",
   "execution_count": 18,
   "metadata": {},
   "outputs": [
    {
     "data": {
      "text/plain": [
       "[(0.87, 0.9)]"
      ]
     },
     "execution_count": 18,
     "metadata": {},
     "output_type": "execute_result"
    },
    {
     "data": {
      "image/png": "[encoded data removed]",
      "text/plain": [
       "<Figure size 640x480 with 1 Axes>"
      ]
     },
     "metadata": {},
     "output_type": "display_data"
    }
   ],
   "source": [
    "plot = sns.barplot(x=results_df['subset_size'], y=results_df['r2_value'])\n",
    "plot.set(ylim=(0.87, 0.9))"
   ]
  },
  {
   "cell_type": "code",
   "execution_count": 19,
   "metadata": {},
   "outputs": [
    {
     "data": {
      "text/plain": [
       "[(0.7, 0.9)]"
      ]
     },
     "execution_count": 19,
     "metadata": {},
     "output_type": "execute_result"
    },
    {
     "data": {
      "image/png": "[encoded data removed]",
      "text/plain": [
       "<Figure size 640x480 with 1 Axes>"
      ]
     },
     "metadata": {},
     "output_type": "display_data"
    }
   ],
   "source": [
    "plot = sns.barplot(x=results_df['subset_size'], y=results_df['mean_odd_accuracy'])\n",
    "plot.set(ylim=(0.7, 0.9))"
   ]
  },
  {
   "cell_type": "code",
   "execution_count": 20,
   "metadata": {},
   "outputs": [
    {
     "data": {
      "text/plain": [
       "[(0.4, 0.6)]"
      ]
     },
     "execution_count": 20,
     "metadata": {},
     "output_type": "execute_result"
    },
    {
     "data": {
      "image/png": "[encoded data removed]",
      "text/plain": [
       "<Figure size 640x480 with 1 Axes>"
      ]
     },
     "metadata": {},
     "output_type": "display_data"
    }
   ],
   "source": [
    "plot = sns.barplot(x=results_df['subset_size'], y=results_df['mean_odd_loss'])\n",
    "plot.set(ylim=(0.4, 0.6))"
   ]
  },
  {
   "cell_type": "code",
   "execution_count": 21,
   "metadata": {},
   "outputs": [
    {
     "data": {
      "text/plain": [
       "[(0.4, 0.9)]"
      ]
     },
     "execution_count": 21,
     "metadata": {},
     "output_type": "execute_result"
    },
    {
     "data": {
      "image/png": "[encoded data removed]",
      "text/plain": [
       "<Figure size 640x480 with 1 Axes>"
      ]
     },
     "metadata": {},
     "output_type": "display_data"
    }
   ],
   "source": [
    "plot = sns.barplot(x=results_df['subset_size'], y=results_df['mean_odd_accuracy'], alpha=0.7)\n",
    "plot = sns.barplot(x=results_df['subset_size'], y=results_df['mean_odd_loss'], alpha=0.7)\n",
    "plot.set(ylim=(0.4, 0.9))\n"
   ]
  },
  {
   "cell_type": "code",
   "execution_count": 22,
   "metadata": {},
   "outputs": [
    {
     "data": {
      "text/plain": [
       "<matplotlib.lines.Line2D at 0x148c96d90>"
      ]
     },
     "execution_count": 22,
     "metadata": {},
     "output_type": "execute_result"
    },
    {
     "data": {
      "image/png": "[encoded data removed]",
      "text/plain": [
       "<Figure size 640x480 with 1 Axes>"
      ]
     },
     "metadata": {},
     "output_type": "display_data"
    }
   ],
   "source": [
    "graph = sns.lineplot(x=results_df['subset_size'], y=results_df['r2_value'], marker=\"o\")\n",
    "graph.axhline(variance_metrics['full_set_var_sum'], color='red')"
   ]
  },
  {
   "cell_type": "markdown",
   "metadata": {},
   "source": [
    "# RoBERTa"
   ]
  },
  {
   "cell_type": "code",
   "execution_count": null,
   "metadata": {},
   "outputs": [],
   "source": []
  },
  {
   "cell_type": "code",
   "execution_count": null,
   "metadata": {},
   "outputs": [],
   "source": [
    "file_list = glob.glob('./Eval-Results-roberta-base/*')\n",
    "\n",
    "odd_results = {}\n",
    "for file in file_list:\n",
    "    key = get_key(file)\n",
    "    with open(file, 'r') as f:\n",
    "        data = f.read()\n",
    "        odd_results[key] = data\n",
    "        # process the data as needed"
   ]
  },
  {
   "cell_type": "code",
   "execution_count": null,
   "metadata": {},
   "outputs": [],
   "source": []
  }
 ],
 "metadata": {
  "kernelspec": {
   "display_name": "py11-env",
   "language": "python",
   "name": "python3"
  },
  "language_info": {
   "codemirror_mode": {
    "name": "ipython",
    "version": 3
   },
   "file_extension": ".py",
   "mimetype": "text/x-python",
   "name": "python",
   "nbconvert_exporter": "python",
   "pygments_lexer": "ipython3",
   "version": "3.11.6"
  }
 },
 "nbformat": 4,
 "nbformat_minor": 2
}
