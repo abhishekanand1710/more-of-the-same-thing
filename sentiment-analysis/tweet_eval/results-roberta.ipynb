{
 "cells": [
  {
   "cell_type": "code",
   "execution_count": 1,
   "metadata": {},
   "outputs": [],
   "source": [
    "import numpy as np\n",
    "import pandas as pd\n",
    "import matplotlib.pyplot as plt\n",
    "import seaborn as sns\n",
    "import json\n",
    "import os\n",
    "import glob"
   ]
  },
  {
   "cell_type": "markdown",
   "metadata": {},
   "source": [
    "# RoBERTa"
   ]
  },
  {
   "cell_type": "code",
   "execution_count": 2,
   "metadata": {},
   "outputs": [
    {
     "name": "stdout",
     "output_type": "stream",
     "text": [
      "{'variance_metrics': {'full_set_var_sum': 0.8548075556755066, 'full_set_var_values': [0.04348822683095932, 0.035667601972818375, 0.02847617119550705, 0.024566346779465675, 0.019576048478484154, 0.017785390838980675, 0.016573002561926842, 0.015938039869070053, 0.014675590209662914, 0.014156904071569443, 0.013434045948088169, 0.013030113652348518, 0.01170832198113203, 0.01103251799941063, 0.010710635222494602, 0.010331254452466965, 0.009816947393119335, 0.009449420496821404, 0.009226726368069649, 0.008620928972959518, 0.00836295634508133, 0.007970518432557583, 0.007848026230931282, 0.007581137120723724, 0.007324179634451866, 0.006992239039391279, 0.006736306007951498, 0.006506618112325668, 0.0062790862284600735, 0.006236234679818153, 0.006075234152376652, 0.006041933782398701, 0.006000405643135309, 0.005873729009181261, 0.00577862374484539, 0.0055580404587090015, 0.005435663275420666, 0.0052622356452047825, 0.005245286505669355, 0.005231725051999092, 0.005039181560277939, 0.00499191926792264, 0.004888097755610943, 0.004803529474884272, 0.004768331069499254, 0.004689244087785482, 0.0046161781065166, 0.004594915080815554, 0.004527575336396694, 0.004440006334334612, 0.0044110422022640705, 0.004343475215137005, 0.004249017219990492, 0.004189284984022379, 0.004159095697104931, 0.0040634931065142155, 0.003995485138148069, 0.003958405461162329, 0.003924328368157148, 0.00391136622056365, 0.0038694613613188267, 0.003823596751317382, 0.003791125025600195, 0.0037524241488426924, 0.0037243319675326347, 0.0036451267078518867, 0.0036400440149009228, 0.0036324230022728443, 0.0035475222393870354, 0.0035056283231824636, 0.0034995346795767546, 0.003434097860008478, 0.003396671963855624, 0.003390539437532425, 0.003348710248246789, 0.003311767941340804, 0.003291419008746743, 0.003251786343753338, 0.0032188876066356897, 0.0032072956673800945, 0.0031782793812453747, 0.00312595977447927, 0.0030766832642257214, 0.0030723989475518465, 0.003058899659663439, 0.003001939272508025, 0.002975341398268938, 0.002939197700470686, 0.002919264603406191, 0.0028998232446610928, 0.0028779171407222748, 0.002847899217158556, 0.002823917893692851, 0.002784815151244402, 0.0027204451616853476, 0.002690080553293228, 0.00268537737429142, 0.002655633958056569, 0.002628832124173641, 0.002616460435092449, 0.0026024740654975176, 0.002580632222816348, 0.002550052013248205, 0.002530105412006378, 0.0025146882981061935, 0.0024801217950880527, 0.0024652963038533926, 0.002448062878102064, 0.0024196442682296038, 0.002376385498791933, 0.0023684718180447817, 0.0023547038435935974, 0.002328995382413268, 0.002300966065376997, 0.0022851054091006517, 0.0022608942817896605, 0.0022269324399530888, 0.0022143248934298754, 0.0021912422962486744, 0.0021533817052841187, 0.0021322474349290133, 0.002125894883647561, 0.002098941942676902, 0.002087691565975547, 0.0020701244939118624, 0.0020492668263614178, 0.0020419610664248466, 0.002018552040681243, 0.001993142534047365, 0.0019898272585123777, 0.0019814393017441034, 0.0019414471462368965, 0.0019309510244056582, 0.0019124068785458803, 0.001905932673253119, 0.0018970905803143978, 0.0018893417436629534, 0.0018653742736205459, 0.0018559759482741356, 0.0018247198313474655, 0.0018143851775676012, 0.0017915110802277923, 0.0017826895928010345, 0.001772748539224267, 0.0017655252013355494, 0.0017572457436472178, 0.0017492985352873802, 0.0017206566408276558, 0.0017050988972187042, 0.001700422610156238, 0.0016883857315406203, 0.001663009636104107, 0.0016408174997195601, 0.0016257641837000847, 0.0016148523427546024, 0.0015984858619049191, 0.001572878914885223, 0.0015648403204977512, 0.0015448554186150432, 0.0015188265824690461, 0.0015144547214731574, 0.0015093329129740596, 0.0015034201787784696, 0.0014875781489536166, 0.0014844583347439766, 0.0014755383599549532, 0.001455475576221943, 0.0014443397521972656, 0.0014389812713488936, 0.0014202669262886047, 0.0013992160093039274, 0.001381941488943994, 0.001364482450298965, 0.0013488264521583915, 0.0013231413904577494, 0.0013170340098440647, 0.0013026704546064138, 0.0012893297243863344, 0.0012709919828921556, 0.001261815894395113, 0.0012586333323270082, 0.0012396504171192646, 0.0012227712431922555, 0.0012075776467099786, 0.0011988067999482155, 0.001198182930238545, 0.0011860282393172383, 0.0011844792170450091, 0.001172491000033915, 0.0011618611169978976, 0.0011506917653605342, 0.001127505791373551, 0.0011211246019229293, 0.0011083862045779824, 0.0011017320211976767, 0.0010871575213968754, 0.001077035441994667, 0.001057350542396307, 0.0010404066415503621, 0.0010253633372485638], 'subsets_self_expl_vars': [0.8704614639282227, 0.8617461919784546, 0.8577054738998413, 0.8576604127883911, 0.8564075231552124, 0.8561577796936035, 0.855516791343689, 0.8552068471908569, 0.8551585674285889, 0.8550258874893188], 'r2_values': [0.8411859981246662, 0.8487844275561733, 0.8513366383833808, 0.8529798364133824, 0.8536601325151819, 0.8542671077744504, 0.8546646764762648, 0.8548811969909692, 0.8551485649509256, 0.8553861563253344], 'subset_sizes': [2776, 5552, 8328, 11104, 13880, 16656, 19432, 22208, 24984, 27760]}, 'modelling_metrics': {'subset_size': [2776, 5552, 8328, 11104, 13880, 16656, 19432, 22208, 24984, 27760], 'test_accuracies': [0.7681905338581088, 0.7786860429912201, 0.7558784942981128, 0.7762640024220405, 0.7641537995761429, 0.7736401251387628, 0.7686951256433545, 0.7743465536381068, 0.7603189020082753, 0.7701079826420426], 'test_losses': [0.5123546123504639, 0.47365429997444153, 0.5184621214866638, 0.48699021339416504, 0.5021765232086182, 0.4979824125766754, 0.5069985389709473, 0.46522435545921326, 0.49752670526504517, 0.4919816255569458]}}\n"
     ]
    }
   ],
   "source": [
    "with open('run-metrics-roberta-base.json', 'r') as f:\n",
    "    data = json.load(f)\n",
    "print(data)"
   ]
  },
  {
   "cell_type": "code",
   "execution_count": 3,
   "metadata": {},
   "outputs": [],
   "source": [
    "variance_metrics = data['variance_metrics']\n",
    "modelling_metrics = data['modelling_metrics']\n",
    "subset_sizes = modelling_metrics['subset_size']"
   ]
  },
  {
   "cell_type": "code",
   "execution_count": 4,
   "metadata": {},
   "outputs": [],
   "source": [
    "def get_key(filename):\n",
    "    return filename.split('/')[2].split('-')[2].split('.')[0].lower()"
   ]
  },
  {
   "cell_type": "code",
   "execution_count": 5,
   "metadata": {},
   "outputs": [],
   "source": [
    "file_list = glob.glob('./Eval-Results-roberta-base/*')\n",
    "\n",
    "odd_results = {}\n",
    "for file in file_list:\n",
    "    key = get_key(file)\n",
    "    with open(file, 'r') as f:\n",
    "        data = f.read()\n",
    "        odd_results[key] = data\n",
    "        # process the data as needed\n"
   ]
  },
  {
   "cell_type": "code",
   "execution_count": 6,
   "metadata": {},
   "outputs": [],
   "source": [
    "results = {}"
   ]
  },
  {
   "cell_type": "code",
   "execution_count": 7,
   "metadata": {},
   "outputs": [],
   "source": [
    "results['subset_size'] = modelling_metrics['subset_size']\n",
    "results['r2_value'] = variance_metrics['r2_values']\n",
    "results['test_accuracy'] = modelling_metrics['test_accuracies']\n",
    "results['test_loss'] = modelling_metrics['test_losses']"
   ]
  },
  {
   "cell_type": "code",
   "execution_count": 8,
   "metadata": {},
   "outputs": [],
   "source": [
    "subset_sizes = modelling_metrics['subset_size']\n",
    "\n",
    "for key, values in odd_results.items():\n",
    "    values = json.loads(values)\n",
    "    metrics = values['evaluation_metrics']\n",
    "    losses = []\n",
    "    accuracies = []\n",
    "    for metric in metrics:\n",
    "        loss = metric['eval_loss']\n",
    "        acc = metric['eval_accuracy']\n",
    "        losses.append(loss)\n",
    "        accuracies.append(acc)\n",
    "\n",
    "    results[f\"{key}_loss\"] = losses\n",
    "    results[f\"{key}_accuracy\"] = accuracies"
   ]
  },
  {
   "cell_type": "code",
   "execution_count": 9,
   "metadata": {},
   "outputs": [
    {
     "data": {
      "text/html": [
       "<div>\n",
       "<style scoped>\n",
       "    .dataframe tbody tr th:only-of-type {\n",
       "        vertical-align: middle;\n",
       "    }\n",
       "\n",
       "    .dataframe tbody tr th {\n",
       "        vertical-align: top;\n",
       "    }\n",
       "\n",
       "    .dataframe thead th {\n",
       "        text-align: right;\n",
       "    }\n",
       "</style>\n",
       "<table border=\"1\" class=\"dataframe\">\n",
       "  <thead>\n",
       "    <tr style=\"text-align: right;\">\n",
       "      <th></th>\n",
       "      <th>subset_size</th>\n",
       "      <th>r2_value</th>\n",
       "      <th>test_accuracy</th>\n",
       "      <th>test_loss</th>\n",
       "      <th>imdb_loss</th>\n",
       "      <th>imdb_accuracy</th>\n",
       "      <th>sst2_loss</th>\n",
       "      <th>sst2_accuracy</th>\n",
       "      <th>yelp_loss</th>\n",
       "      <th>yelp_accuracy</th>\n",
       "    </tr>\n",
       "  </thead>\n",
       "  <tbody>\n",
       "    <tr>\n",
       "      <th>0</th>\n",
       "      <td>2776</td>\n",
       "      <td>0.841186</td>\n",
       "      <td>0.768191</td>\n",
       "      <td>0.512355</td>\n",
       "      <td>0.515566</td>\n",
       "      <td>0.74100</td>\n",
       "      <td>0.595073</td>\n",
       "      <td>0.764273</td>\n",
       "      <td>0.414575</td>\n",
       "      <td>0.821921</td>\n",
       "    </tr>\n",
       "    <tr>\n",
       "      <th>1</th>\n",
       "      <td>5552</td>\n",
       "      <td>0.848784</td>\n",
       "      <td>0.778686</td>\n",
       "      <td>0.473654</td>\n",
       "      <td>0.483503</td>\n",
       "      <td>0.79124</td>\n",
       "      <td>0.620496</td>\n",
       "      <td>0.748935</td>\n",
       "      <td>0.450431</td>\n",
       "      <td>0.820132</td>\n",
       "    </tr>\n",
       "    <tr>\n",
       "      <th>2</th>\n",
       "      <td>8328</td>\n",
       "      <td>0.851337</td>\n",
       "      <td>0.755878</td>\n",
       "      <td>0.518462</td>\n",
       "      <td>0.444051</td>\n",
       "      <td>0.79880</td>\n",
       "      <td>0.526742</td>\n",
       "      <td>0.792484</td>\n",
       "      <td>0.359950</td>\n",
       "      <td>0.854842</td>\n",
       "    </tr>\n",
       "    <tr>\n",
       "      <th>3</th>\n",
       "      <td>11104</td>\n",
       "      <td>0.852980</td>\n",
       "      <td>0.776264</td>\n",
       "      <td>0.486990</td>\n",
       "      <td>0.456646</td>\n",
       "      <td>0.80184</td>\n",
       "      <td>0.582913</td>\n",
       "      <td>0.778987</td>\n",
       "      <td>0.390063</td>\n",
       "      <td>0.845947</td>\n",
       "    </tr>\n",
       "    <tr>\n",
       "      <th>4</th>\n",
       "      <td>13880</td>\n",
       "      <td>0.853660</td>\n",
       "      <td>0.764154</td>\n",
       "      <td>0.502177</td>\n",
       "      <td>0.510506</td>\n",
       "      <td>0.78176</td>\n",
       "      <td>0.637662</td>\n",
       "      <td>0.711488</td>\n",
       "      <td>0.455844</td>\n",
       "      <td>0.824237</td>\n",
       "    </tr>\n",
       "    <tr>\n",
       "      <th>5</th>\n",
       "      <td>16656</td>\n",
       "      <td>0.854267</td>\n",
       "      <td>0.773640</td>\n",
       "      <td>0.497982</td>\n",
       "      <td>0.444073</td>\n",
       "      <td>0.80012</td>\n",
       "      <td>0.538158</td>\n",
       "      <td>0.794459</td>\n",
       "      <td>0.351378</td>\n",
       "      <td>0.865605</td>\n",
       "    </tr>\n",
       "    <tr>\n",
       "      <th>6</th>\n",
       "      <td>19432</td>\n",
       "      <td>0.854665</td>\n",
       "      <td>0.768695</td>\n",
       "      <td>0.506999</td>\n",
       "      <td>0.495659</td>\n",
       "      <td>0.77084</td>\n",
       "      <td>0.712408</td>\n",
       "      <td>0.748296</td>\n",
       "      <td>0.435661</td>\n",
       "      <td>0.817316</td>\n",
       "    </tr>\n",
       "    <tr>\n",
       "      <th>7</th>\n",
       "      <td>22208</td>\n",
       "      <td>0.854881</td>\n",
       "      <td>0.774347</td>\n",
       "      <td>0.465224</td>\n",
       "      <td>0.502495</td>\n",
       "      <td>0.77832</td>\n",
       "      <td>0.625933</td>\n",
       "      <td>0.737650</td>\n",
       "      <td>0.434864</td>\n",
       "      <td>0.817763</td>\n",
       "    </tr>\n",
       "    <tr>\n",
       "      <th>8</th>\n",
       "      <td>24984</td>\n",
       "      <td>0.855149</td>\n",
       "      <td>0.760319</td>\n",
       "      <td>0.497527</td>\n",
       "      <td>0.454033</td>\n",
       "      <td>0.79708</td>\n",
       "      <td>0.649332</td>\n",
       "      <td>0.769514</td>\n",
       "      <td>0.392040</td>\n",
       "      <td>0.843211</td>\n",
       "    </tr>\n",
       "    <tr>\n",
       "      <th>9</th>\n",
       "      <td>27760</td>\n",
       "      <td>0.855386</td>\n",
       "      <td>0.770108</td>\n",
       "      <td>0.491982</td>\n",
       "      <td>0.474015</td>\n",
       "      <td>0.78680</td>\n",
       "      <td>0.628211</td>\n",
       "      <td>0.779640</td>\n",
       "      <td>0.411988</td>\n",
       "      <td>0.840553</td>\n",
       "    </tr>\n",
       "  </tbody>\n",
       "</table>\n",
       "</div>"
      ],
      "text/plain": [
       "   subset_size  r2_value  test_accuracy  test_loss  imdb_loss  imdb_accuracy  \\\n",
       "0         2776  0.841186       0.768191   0.512355   0.515566        0.74100   \n",
       "1         5552  0.848784       0.778686   0.473654   0.483503        0.79124   \n",
       "2         8328  0.851337       0.755878   0.518462   0.444051        0.79880   \n",
       "3        11104  0.852980       0.776264   0.486990   0.456646        0.80184   \n",
       "4        13880  0.853660       0.764154   0.502177   0.510506        0.78176   \n",
       "5        16656  0.854267       0.773640   0.497982   0.444073        0.80012   \n",
       "6        19432  0.854665       0.768695   0.506999   0.495659        0.77084   \n",
       "7        22208  0.854881       0.774347   0.465224   0.502495        0.77832   \n",
       "8        24984  0.855149       0.760319   0.497527   0.454033        0.79708   \n",
       "9        27760  0.855386       0.770108   0.491982   0.474015        0.78680   \n",
       "\n",
       "   sst2_loss  sst2_accuracy  yelp_loss  yelp_accuracy  \n",
       "0   0.595073       0.764273   0.414575       0.821921  \n",
       "1   0.620496       0.748935   0.450431       0.820132  \n",
       "2   0.526742       0.792484   0.359950       0.854842  \n",
       "3   0.582913       0.778987   0.390063       0.845947  \n",
       "4   0.637662       0.711488   0.455844       0.824237  \n",
       "5   0.538158       0.794459   0.351378       0.865605  \n",
       "6   0.712408       0.748296   0.435661       0.817316  \n",
       "7   0.625933       0.737650   0.434864       0.817763  \n",
       "8   0.649332       0.769514   0.392040       0.843211  \n",
       "9   0.628211       0.779640   0.411988       0.840553  "
      ]
     },
     "execution_count": 9,
     "metadata": {},
     "output_type": "execute_result"
    }
   ],
   "source": [
    "results_df = pd.DataFrame(results)\n",
    "results_df"
   ]
  },
  {
   "cell_type": "code",
   "execution_count": 10,
   "metadata": {},
   "outputs": [
    {
     "data": {
      "text/html": [
       "<div>\n",
       "<style scoped>\n",
       "    .dataframe tbody tr th:only-of-type {\n",
       "        vertical-align: middle;\n",
       "    }\n",
       "\n",
       "    .dataframe tbody tr th {\n",
       "        vertical-align: top;\n",
       "    }\n",
       "\n",
       "    .dataframe thead th {\n",
       "        text-align: right;\n",
       "    }\n",
       "</style>\n",
       "<table border=\"1\" class=\"dataframe\">\n",
       "  <thead>\n",
       "    <tr style=\"text-align: right;\">\n",
       "      <th></th>\n",
       "      <th>subset_size</th>\n",
       "      <th>r2_value</th>\n",
       "      <th>test_accuracy</th>\n",
       "      <th>test_loss</th>\n",
       "      <th>imdb_loss</th>\n",
       "      <th>imdb_accuracy</th>\n",
       "      <th>sst2_loss</th>\n",
       "      <th>sst2_accuracy</th>\n",
       "      <th>yelp_loss</th>\n",
       "      <th>yelp_accuracy</th>\n",
       "      <th>mean_odd_accuracy</th>\n",
       "      <th>mean_odd_loss</th>\n",
       "    </tr>\n",
       "  </thead>\n",
       "  <tbody>\n",
       "    <tr>\n",
       "      <th>0</th>\n",
       "      <td>2776</td>\n",
       "      <td>0.841186</td>\n",
       "      <td>0.768191</td>\n",
       "      <td>0.512355</td>\n",
       "      <td>0.515566</td>\n",
       "      <td>0.74100</td>\n",
       "      <td>0.595073</td>\n",
       "      <td>0.764273</td>\n",
       "      <td>0.414575</td>\n",
       "      <td>0.821921</td>\n",
       "      <td>0.775731</td>\n",
       "      <td>0.508404</td>\n",
       "    </tr>\n",
       "    <tr>\n",
       "      <th>1</th>\n",
       "      <td>5552</td>\n",
       "      <td>0.848784</td>\n",
       "      <td>0.778686</td>\n",
       "      <td>0.473654</td>\n",
       "      <td>0.483503</td>\n",
       "      <td>0.79124</td>\n",
       "      <td>0.620496</td>\n",
       "      <td>0.748935</td>\n",
       "      <td>0.450431</td>\n",
       "      <td>0.820132</td>\n",
       "      <td>0.786769</td>\n",
       "      <td>0.518143</td>\n",
       "    </tr>\n",
       "    <tr>\n",
       "      <th>2</th>\n",
       "      <td>8328</td>\n",
       "      <td>0.851337</td>\n",
       "      <td>0.755878</td>\n",
       "      <td>0.518462</td>\n",
       "      <td>0.444051</td>\n",
       "      <td>0.79880</td>\n",
       "      <td>0.526742</td>\n",
       "      <td>0.792484</td>\n",
       "      <td>0.359950</td>\n",
       "      <td>0.854842</td>\n",
       "      <td>0.815375</td>\n",
       "      <td>0.443581</td>\n",
       "    </tr>\n",
       "    <tr>\n",
       "      <th>3</th>\n",
       "      <td>11104</td>\n",
       "      <td>0.852980</td>\n",
       "      <td>0.776264</td>\n",
       "      <td>0.486990</td>\n",
       "      <td>0.456646</td>\n",
       "      <td>0.80184</td>\n",
       "      <td>0.582913</td>\n",
       "      <td>0.778987</td>\n",
       "      <td>0.390063</td>\n",
       "      <td>0.845947</td>\n",
       "      <td>0.808925</td>\n",
       "      <td>0.476541</td>\n",
       "    </tr>\n",
       "    <tr>\n",
       "      <th>4</th>\n",
       "      <td>13880</td>\n",
       "      <td>0.853660</td>\n",
       "      <td>0.764154</td>\n",
       "      <td>0.502177</td>\n",
       "      <td>0.510506</td>\n",
       "      <td>0.78176</td>\n",
       "      <td>0.637662</td>\n",
       "      <td>0.711488</td>\n",
       "      <td>0.455844</td>\n",
       "      <td>0.824237</td>\n",
       "      <td>0.772495</td>\n",
       "      <td>0.534671</td>\n",
       "    </tr>\n",
       "    <tr>\n",
       "      <th>5</th>\n",
       "      <td>16656</td>\n",
       "      <td>0.854267</td>\n",
       "      <td>0.773640</td>\n",
       "      <td>0.497982</td>\n",
       "      <td>0.444073</td>\n",
       "      <td>0.80012</td>\n",
       "      <td>0.538158</td>\n",
       "      <td>0.794459</td>\n",
       "      <td>0.351378</td>\n",
       "      <td>0.865605</td>\n",
       "      <td>0.820061</td>\n",
       "      <td>0.444536</td>\n",
       "    </tr>\n",
       "    <tr>\n",
       "      <th>6</th>\n",
       "      <td>19432</td>\n",
       "      <td>0.854665</td>\n",
       "      <td>0.768695</td>\n",
       "      <td>0.506999</td>\n",
       "      <td>0.495659</td>\n",
       "      <td>0.77084</td>\n",
       "      <td>0.712408</td>\n",
       "      <td>0.748296</td>\n",
       "      <td>0.435661</td>\n",
       "      <td>0.817316</td>\n",
       "      <td>0.778817</td>\n",
       "      <td>0.547909</td>\n",
       "    </tr>\n",
       "    <tr>\n",
       "      <th>7</th>\n",
       "      <td>22208</td>\n",
       "      <td>0.854881</td>\n",
       "      <td>0.774347</td>\n",
       "      <td>0.465224</td>\n",
       "      <td>0.502495</td>\n",
       "      <td>0.77832</td>\n",
       "      <td>0.625933</td>\n",
       "      <td>0.737650</td>\n",
       "      <td>0.434864</td>\n",
       "      <td>0.817763</td>\n",
       "      <td>0.777911</td>\n",
       "      <td>0.521097</td>\n",
       "    </tr>\n",
       "    <tr>\n",
       "      <th>8</th>\n",
       "      <td>24984</td>\n",
       "      <td>0.855149</td>\n",
       "      <td>0.760319</td>\n",
       "      <td>0.497527</td>\n",
       "      <td>0.454033</td>\n",
       "      <td>0.79708</td>\n",
       "      <td>0.649332</td>\n",
       "      <td>0.769514</td>\n",
       "      <td>0.392040</td>\n",
       "      <td>0.843211</td>\n",
       "      <td>0.803268</td>\n",
       "      <td>0.498468</td>\n",
       "    </tr>\n",
       "    <tr>\n",
       "      <th>9</th>\n",
       "      <td>27760</td>\n",
       "      <td>0.855386</td>\n",
       "      <td>0.770108</td>\n",
       "      <td>0.491982</td>\n",
       "      <td>0.474015</td>\n",
       "      <td>0.78680</td>\n",
       "      <td>0.628211</td>\n",
       "      <td>0.779640</td>\n",
       "      <td>0.411988</td>\n",
       "      <td>0.840553</td>\n",
       "      <td>0.802331</td>\n",
       "      <td>0.504738</td>\n",
       "    </tr>\n",
       "  </tbody>\n",
       "</table>\n",
       "</div>"
      ],
      "text/plain": [
       "   subset_size  r2_value  test_accuracy  test_loss  imdb_loss  imdb_accuracy  \\\n",
       "0         2776  0.841186       0.768191   0.512355   0.515566        0.74100   \n",
       "1         5552  0.848784       0.778686   0.473654   0.483503        0.79124   \n",
       "2         8328  0.851337       0.755878   0.518462   0.444051        0.79880   \n",
       "3        11104  0.852980       0.776264   0.486990   0.456646        0.80184   \n",
       "4        13880  0.853660       0.764154   0.502177   0.510506        0.78176   \n",
       "5        16656  0.854267       0.773640   0.497982   0.444073        0.80012   \n",
       "6        19432  0.854665       0.768695   0.506999   0.495659        0.77084   \n",
       "7        22208  0.854881       0.774347   0.465224   0.502495        0.77832   \n",
       "8        24984  0.855149       0.760319   0.497527   0.454033        0.79708   \n",
       "9        27760  0.855386       0.770108   0.491982   0.474015        0.78680   \n",
       "\n",
       "   sst2_loss  sst2_accuracy  yelp_loss  yelp_accuracy  mean_odd_accuracy  \\\n",
       "0   0.595073       0.764273   0.414575       0.821921           0.775731   \n",
       "1   0.620496       0.748935   0.450431       0.820132           0.786769   \n",
       "2   0.526742       0.792484   0.359950       0.854842           0.815375   \n",
       "3   0.582913       0.778987   0.390063       0.845947           0.808925   \n",
       "4   0.637662       0.711488   0.455844       0.824237           0.772495   \n",
       "5   0.538158       0.794459   0.351378       0.865605           0.820061   \n",
       "6   0.712408       0.748296   0.435661       0.817316           0.778817   \n",
       "7   0.625933       0.737650   0.434864       0.817763           0.777911   \n",
       "8   0.649332       0.769514   0.392040       0.843211           0.803268   \n",
       "9   0.628211       0.779640   0.411988       0.840553           0.802331   \n",
       "\n",
       "   mean_odd_loss  \n",
       "0       0.508404  \n",
       "1       0.518143  \n",
       "2       0.443581  \n",
       "3       0.476541  \n",
       "4       0.534671  \n",
       "5       0.444536  \n",
       "6       0.547909  \n",
       "7       0.521097  \n",
       "8       0.498468  \n",
       "9       0.504738  "
      ]
     },
     "execution_count": 10,
     "metadata": {},
     "output_type": "execute_result"
    }
   ],
   "source": [
    "results_df['mean_odd_accuracy'] = results_df[['imdb_accuracy', 'sst2_accuracy', 'yelp_accuracy']].mean(axis=1)\n",
    "results_df['mean_odd_loss'] = results_df[['imdb_loss', 'sst2_loss', 'yelp_loss']].mean(axis=1)\n",
    "results_df"
   ]
  },
  {
   "cell_type": "code",
   "execution_count": 13,
   "metadata": {},
   "outputs": [
    {
     "data": {
      "text/plain": [
       "[(0.7, 0.9)]"
      ]
     },
     "execution_count": 13,
     "metadata": {},
     "output_type": "execute_result"
    },
    {
     "data": {
      "image/png": "[encoded data removed]",
      "text/plain": [
       "<Figure size 640x480 with 1 Axes>"
      ]
     },
     "metadata": {},
     "output_type": "display_data"
    }
   ],
   "source": [
    "plot = sns.barplot(x=results_df['subset_size'], y=results_df['mean_odd_accuracy'])\n",
    "plot.set(ylim=(0.7, 0.9))"
   ]
  },
  {
   "cell_type": "code",
   "execution_count": 14,
   "metadata": {},
   "outputs": [
    {
     "data": {
      "text/plain": [
       "[(0.4, 0.6)]"
      ]
     },
     "execution_count": 14,
     "metadata": {},
     "output_type": "execute_result"
    },
    {
     "data": {
      "image/png": "[encoded data removed]",
      "text/plain": [
       "<Figure size 640x480 with 1 Axes>"
      ]
     },
     "metadata": {},
     "output_type": "display_data"
    }
   ],
   "source": [
    "plot = sns.barplot(x=results_df['subset_size'], y=results_df['mean_odd_loss'])\n",
    "plot.set(ylim=(0.4, 0.6))"
   ]
  },
  {
   "cell_type": "code",
   "execution_count": 15,
   "metadata": {},
   "outputs": [
    {
     "data": {
      "text/plain": [
       "[(0.4, 0.9)]"
      ]
     },
     "execution_count": 15,
     "metadata": {},
     "output_type": "execute_result"
    },
    {
     "data": {
      "image/png": "[encoded data removed]",
      "text/plain": [
       "<Figure size 640x480 with 1 Axes>"
      ]
     },
     "metadata": {},
     "output_type": "display_data"
    }
   ],
   "source": [
    "plot = sns.barplot(x=results_df['subset_size'], y=results_df['mean_odd_accuracy'], alpha=0.7)\n",
    "plot = sns.barplot(x=results_df['subset_size'], y=results_df['mean_odd_loss'], alpha=0.7)\n",
    "plot.set(ylim=(0.4, 0.9))\n"
   ]
  },
  {
   "cell_type": "code",
   "execution_count": 16,
   "metadata": {},
   "outputs": [
    {
     "data": {
      "text/plain": [
       "<matplotlib.lines.Line2D at 0x14ebac290>"
      ]
     },
     "execution_count": 16,
     "metadata": {},
     "output_type": "execute_result"
    },
    {
     "data": {
      "image/png": "[encoded data removed]",
      "text/plain": [
       "<Figure size 640x480 with 1 Axes>"
      ]
     },
     "metadata": {},
     "output_type": "display_data"
    }
   ],
   "source": [
    "graph = sns.lineplot(x=results_df['subset_size'], y=results_df['r2_value'], marker=\"o\")\n",
    "graph.axhline(variance_metrics['full_set_var_sum'], color='red')"
   ]
  },
  {
   "cell_type": "code",
   "execution_count": null,
   "metadata": {},
   "outputs": [],
   "source": []
  }
 ],
 "metadata": {
  "kernelspec": {
   "display_name": "py11-env",
   "language": "python",
   "name": "python3"
  },
  "language_info": {
   "codemirror_mode": {
    "name": "ipython",
    "version": 3
   },
   "file_extension": ".py",
   "mimetype": "text/x-python",
   "name": "python",
   "nbconvert_exporter": "python",
   "pygments_lexer": "ipython3",
   "version": "3.11.6"
  }
 },
 "nbformat": 4,
 "nbformat_minor": 2
}
