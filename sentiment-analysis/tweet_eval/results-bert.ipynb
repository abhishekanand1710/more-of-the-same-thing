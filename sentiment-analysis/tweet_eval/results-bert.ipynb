{
 "cells": [
  {
   "cell_type": "code",
   "execution_count": 20,
   "metadata": {},
   "outputs": [],
   "source": [
    "import numpy as np\n",
    "import pandas as pd\n",
    "import matplotlib.pyplot as plt\n",
    "import seaborn as sns\n",
    "import json\n",
    "import os\n",
    "import glob"
   ]
  },
  {
   "cell_type": "markdown",
   "metadata": {},
   "source": [
    "# BERT"
   ]
  },
  {
   "cell_type": "code",
   "execution_count": 21,
   "metadata": {},
   "outputs": [
    {
     "name": "stdout",
     "output_type": "stream",
     "text": [
      "{'variance_metrics': {'full_set_var_sum': 0.8285273909568787, 'full_set_var_values': [0.041195183992385864, 0.03737594187259674, 0.03241831436753273, 0.0279122032225132, 0.02042466029524803, 0.019073758274316788, 0.018287625163793564, 0.017793674021959305, 0.01691342331469059, 0.015728650614619255, 0.015252454206347466, 0.014074371196329594, 0.013477472588419914, 0.013031326234340668, 0.01260344311594963, 0.011925622820854187, 0.01183782797306776, 0.011456011794507504, 0.011322693899273872, 0.010873396880924702, 0.010707639157772064, 0.01049008872359991, 0.010153072886168957, 0.009762761183083057, 0.009514139965176582, 0.009414061903953552, 0.009113209322094917, 0.008941298350691795, 0.008719785138964653, 0.008637131191790104, 0.008390272036194801, 0.008241375908255577, 0.008110051043331623, 0.008007076568901539, 0.007913310080766678, 0.007732263766229153, 0.0076059442944824696, 0.007453422527760267, 0.007354367524385452, 0.007251568138599396, 0.007088539656251669, 0.006956500466912985, 0.006811491679400206, 0.006739362142980099, 0.0066464804112911224, 0.006541532464325428, 0.006469040643423796, 0.006435329560190439, 0.0062786974012851715, 0.006217289250344038, 0.006138537544757128, 0.006053081713616848, 0.005910038948059082, 0.005789876915514469, 0.005769784562289715, 0.005669791717082262, 0.005614737514406443, 0.0054621449671685696, 0.005374690983444452, 0.0053083524107933044, 0.005266993306577206, 0.005143676418811083, 0.005094679072499275, 0.0049754236824810505, 0.004943914711475372, 0.004866838920861483, 0.004777741618454456, 0.004756616428494453, 0.004652064293622971, 0.004593273624777794, 0.004544249270111322, 0.0044753216207027435, 0.004428924527019262, 0.004304401110857725, 0.0042775520123541355, 0.004198350477963686, 0.0041196588426828384, 0.0040770177729427814, 0.004039027728140354, 0.003983195871114731, 0.0039066229946911335, 0.003887100610882044, 0.0037390715442597866, 0.0037251056637614965, 0.003642528783529997, 0.0035891649313271046, 0.0035276308190077543, 0.003481833264231682, 0.0034667884465306997, 0.0033843391574919224, 0.0033379828091710806, 0.0032911316957324743, 0.003200672334060073, 0.0031661868561059237, 0.0030905772000551224, 0.00306128547526896, 0.002995086368173361, 0.0029791847337037325, 0.002924068830907345, 0.0028458551969379187], 'subsets_self_expl_vars': [0.8381060361862183, 0.8326180577278137, 0.830518901348114, 0.829848051071167, 0.8296047449111938, 0.8289145231246948, 0.8293508291244507, 0.8286390900611877, 0.8284708857536316, 0.8284434676170349], 'r2_values': [0.8194239879093262, 0.8248587116185668, 0.8263771237734968, 0.8272929787529253, 0.8278226209060102, 0.8280728970018988, 0.8285131431390989, 0.8284458308608627, 0.828663988974056, 0.828785126434884], 'subset_sizes': [2776, 5552, 8328, 11104, 13880, 16656, 19432, 22208, 24984, 27760]}, 'modelling_metrics': {'subset_size': [2776, 5552, 8328, 11104, 13880, 16656, 19432, 22208, 24984, 27760], 'test_accuracies': [0.7488142093046726, 0.7539610455141791, 0.7385205368856596, 0.7671813502876174, 0.7749520637804016, 0.7663740034312242, 0.7681905338581088, 0.7604198203653244, 0.7667776768594208, 0.7641537995761429], 'test_losses': [0.5301788449287415, 0.49152493476867676, 0.5050573348999023, 0.48036161065101624, 0.4612995982170105, 0.47880133986473083, 0.5009187459945679, 0.4855095446109772, 0.46875518560409546, 0.4837934374809265]}}\n"
     ]
    }
   ],
   "source": [
    "with open('run-metrics.json', 'r') as f:\n",
    "    data = json.load(f)\n",
    "print(data)"
   ]
  },
  {
   "cell_type": "code",
   "execution_count": 22,
   "metadata": {},
   "outputs": [],
   "source": [
    "variance_metrics = data['variance_metrics']\n",
    "modelling_metrics = data['modelling_metrics']\n",
    "subset_sizes = modelling_metrics['subset_size']"
   ]
  },
  {
   "cell_type": "code",
   "execution_count": 23,
   "metadata": {},
   "outputs": [],
   "source": [
    "def get_key(filename):\n",
    "    return filename.split('/')[2].split('-')[2].split('.')[0].lower()"
   ]
  },
  {
   "cell_type": "code",
   "execution_count": 24,
   "metadata": {},
   "outputs": [],
   "source": [
    "file_list = glob.glob('./Eval-Results-bert-base-uncased/*')\n",
    "\n",
    "odd_results = {}\n",
    "for file in file_list:\n",
    "    key = get_key(file)\n",
    "    with open(file, 'r') as f:\n",
    "        data = f.read()\n",
    "        odd_results[key] = data\n",
    "        # process the data as needed\n"
   ]
  },
  {
   "cell_type": "code",
   "execution_count": 25,
   "metadata": {},
   "outputs": [],
   "source": [
    "results = {}"
   ]
  },
  {
   "cell_type": "code",
   "execution_count": 26,
   "metadata": {},
   "outputs": [],
   "source": [
    "results['subset_size'] = subset_sizes\n",
    "results['r2_value'] = variance_metrics['r2_values']\n",
    "results['test_accuracy'] = modelling_metrics['test_accuracies']\n",
    "results['test_loss'] = modelling_metrics['test_losses']"
   ]
  },
  {
   "cell_type": "code",
   "execution_count": 27,
   "metadata": {},
   "outputs": [],
   "source": [
    "subset_sizes = modelling_metrics['subset_size']\n",
    "\n",
    "for key, values in odd_results.items():\n",
    "    values = json.loads(values)\n",
    "    metrics = values['evaluation_metrics']\n",
    "    losses = []\n",
    "    accuracies = []\n",
    "    for metric in metrics:\n",
    "        loss = metric['eval_loss']\n",
    "        acc = metric['eval_accuracy']\n",
    "        losses.append(loss)\n",
    "        accuracies.append(acc)\n",
    "\n",
    "    results[f\"{key}_loss\"] = losses\n",
    "    results[f\"{key}_accuracy\"] = accuracies"
   ]
  },
  {
   "cell_type": "code",
   "execution_count": 28,
   "metadata": {},
   "outputs": [
    {
     "data": {
      "text/html": [
       "<div>\n",
       "<style scoped>\n",
       "    .dataframe tbody tr th:only-of-type {\n",
       "        vertical-align: middle;\n",
       "    }\n",
       "\n",
       "    .dataframe tbody tr th {\n",
       "        vertical-align: top;\n",
       "    }\n",
       "\n",
       "    .dataframe thead th {\n",
       "        text-align: right;\n",
       "    }\n",
       "</style>\n",
       "<table border=\"1\" class=\"dataframe\">\n",
       "  <thead>\n",
       "    <tr style=\"text-align: right;\">\n",
       "      <th></th>\n",
       "      <th>subset_size</th>\n",
       "      <th>r2_value</th>\n",
       "      <th>test_accuracy</th>\n",
       "      <th>test_loss</th>\n",
       "      <th>imdb_loss</th>\n",
       "      <th>imdb_accuracy</th>\n",
       "      <th>sst2_loss</th>\n",
       "      <th>sst2_accuracy</th>\n",
       "      <th>yelp_loss</th>\n",
       "      <th>yelp_accuracy</th>\n",
       "    </tr>\n",
       "  </thead>\n",
       "  <tbody>\n",
       "    <tr>\n",
       "      <th>0</th>\n",
       "      <td>2776</td>\n",
       "      <td>0.819424</td>\n",
       "      <td>0.748814</td>\n",
       "      <td>0.530179</td>\n",
       "      <td>0.556370</td>\n",
       "      <td>0.76436</td>\n",
       "      <td>0.607702</td>\n",
       "      <td>0.705148</td>\n",
       "      <td>0.533143</td>\n",
       "      <td>0.767263</td>\n",
       "    </tr>\n",
       "    <tr>\n",
       "      <th>1</th>\n",
       "      <td>5552</td>\n",
       "      <td>0.824859</td>\n",
       "      <td>0.753961</td>\n",
       "      <td>0.491525</td>\n",
       "      <td>0.502986</td>\n",
       "      <td>0.76592</td>\n",
       "      <td>0.539926</td>\n",
       "      <td>0.736121</td>\n",
       "      <td>0.439562</td>\n",
       "      <td>0.814158</td>\n",
       "    </tr>\n",
       "    <tr>\n",
       "      <th>2</th>\n",
       "      <td>8328</td>\n",
       "      <td>0.826377</td>\n",
       "      <td>0.738521</td>\n",
       "      <td>0.505057</td>\n",
       "      <td>0.536959</td>\n",
       "      <td>0.74156</td>\n",
       "      <td>0.589302</td>\n",
       "      <td>0.703737</td>\n",
       "      <td>0.473140</td>\n",
       "      <td>0.796816</td>\n",
       "    </tr>\n",
       "    <tr>\n",
       "      <th>3</th>\n",
       "      <td>11104</td>\n",
       "      <td>0.827293</td>\n",
       "      <td>0.767181</td>\n",
       "      <td>0.480362</td>\n",
       "      <td>0.501064</td>\n",
       "      <td>0.76848</td>\n",
       "      <td>0.690023</td>\n",
       "      <td>0.690523</td>\n",
       "      <td>0.484313</td>\n",
       "      <td>0.761105</td>\n",
       "    </tr>\n",
       "    <tr>\n",
       "      <th>4</th>\n",
       "      <td>13880</td>\n",
       "      <td>0.827823</td>\n",
       "      <td>0.774952</td>\n",
       "      <td>0.461300</td>\n",
       "      <td>0.506842</td>\n",
       "      <td>0.75984</td>\n",
       "      <td>0.541573</td>\n",
       "      <td>0.754918</td>\n",
       "      <td>0.451435</td>\n",
       "      <td>0.807211</td>\n",
       "    </tr>\n",
       "    <tr>\n",
       "      <th>5</th>\n",
       "      <td>16656</td>\n",
       "      <td>0.828073</td>\n",
       "      <td>0.766374</td>\n",
       "      <td>0.478801</td>\n",
       "      <td>0.500360</td>\n",
       "      <td>0.75084</td>\n",
       "      <td>0.545420</td>\n",
       "      <td>0.731785</td>\n",
       "      <td>0.446351</td>\n",
       "      <td>0.806658</td>\n",
       "    </tr>\n",
       "    <tr>\n",
       "      <th>6</th>\n",
       "      <td>19432</td>\n",
       "      <td>0.828513</td>\n",
       "      <td>0.768191</td>\n",
       "      <td>0.500919</td>\n",
       "      <td>0.498000</td>\n",
       "      <td>0.76864</td>\n",
       "      <td>0.588472</td>\n",
       "      <td>0.746217</td>\n",
       "      <td>0.489513</td>\n",
       "      <td>0.775395</td>\n",
       "    </tr>\n",
       "    <tr>\n",
       "      <th>7</th>\n",
       "      <td>22208</td>\n",
       "      <td>0.828446</td>\n",
       "      <td>0.760420</td>\n",
       "      <td>0.485510</td>\n",
       "      <td>0.504272</td>\n",
       "      <td>0.75032</td>\n",
       "      <td>0.502660</td>\n",
       "      <td>0.775171</td>\n",
       "      <td>0.412235</td>\n",
       "      <td>0.825974</td>\n",
       "    </tr>\n",
       "    <tr>\n",
       "      <th>8</th>\n",
       "      <td>24984</td>\n",
       "      <td>0.828664</td>\n",
       "      <td>0.766778</td>\n",
       "      <td>0.468755</td>\n",
       "      <td>0.545509</td>\n",
       "      <td>0.71236</td>\n",
       "      <td>0.481013</td>\n",
       "      <td>0.785550</td>\n",
       "      <td>0.428340</td>\n",
       "      <td>0.816026</td>\n",
       "    </tr>\n",
       "    <tr>\n",
       "      <th>9</th>\n",
       "      <td>27760</td>\n",
       "      <td>0.828785</td>\n",
       "      <td>0.764154</td>\n",
       "      <td>0.483793</td>\n",
       "      <td>0.518682</td>\n",
       "      <td>0.74616</td>\n",
       "      <td>0.639523</td>\n",
       "      <td>0.700797</td>\n",
       "      <td>0.484255</td>\n",
       "      <td>0.772737</td>\n",
       "    </tr>\n",
       "  </tbody>\n",
       "</table>\n",
       "</div>"
      ],
      "text/plain": [
       "   subset_size  r2_value  test_accuracy  test_loss  imdb_loss  imdb_accuracy  \\\n",
       "0         2776  0.819424       0.748814   0.530179   0.556370        0.76436   \n",
       "1         5552  0.824859       0.753961   0.491525   0.502986        0.76592   \n",
       "2         8328  0.826377       0.738521   0.505057   0.536959        0.74156   \n",
       "3        11104  0.827293       0.767181   0.480362   0.501064        0.76848   \n",
       "4        13880  0.827823       0.774952   0.461300   0.506842        0.75984   \n",
       "5        16656  0.828073       0.766374   0.478801   0.500360        0.75084   \n",
       "6        19432  0.828513       0.768191   0.500919   0.498000        0.76864   \n",
       "7        22208  0.828446       0.760420   0.485510   0.504272        0.75032   \n",
       "8        24984  0.828664       0.766778   0.468755   0.545509        0.71236   \n",
       "9        27760  0.828785       0.764154   0.483793   0.518682        0.74616   \n",
       "\n",
       "   sst2_loss  sst2_accuracy  yelp_loss  yelp_accuracy  \n",
       "0   0.607702       0.705148   0.533143       0.767263  \n",
       "1   0.539926       0.736121   0.439562       0.814158  \n",
       "2   0.589302       0.703737   0.473140       0.796816  \n",
       "3   0.690023       0.690523   0.484313       0.761105  \n",
       "4   0.541573       0.754918   0.451435       0.807211  \n",
       "5   0.545420       0.731785   0.446351       0.806658  \n",
       "6   0.588472       0.746217   0.489513       0.775395  \n",
       "7   0.502660       0.775171   0.412235       0.825974  \n",
       "8   0.481013       0.785550   0.428340       0.816026  \n",
       "9   0.639523       0.700797   0.484255       0.772737  "
      ]
     },
     "execution_count": 28,
     "metadata": {},
     "output_type": "execute_result"
    }
   ],
   "source": [
    "results_df = pd.DataFrame(results)\n",
    "results_df"
   ]
  },
  {
   "cell_type": "code",
   "execution_count": 29,
   "metadata": {},
   "outputs": [
    {
     "data": {
      "text/html": [
       "<div>\n",
       "<style scoped>\n",
       "    .dataframe tbody tr th:only-of-type {\n",
       "        vertical-align: middle;\n",
       "    }\n",
       "\n",
       "    .dataframe tbody tr th {\n",
       "        vertical-align: top;\n",
       "    }\n",
       "\n",
       "    .dataframe thead th {\n",
       "        text-align: right;\n",
       "    }\n",
       "</style>\n",
       "<table border=\"1\" class=\"dataframe\">\n",
       "  <thead>\n",
       "    <tr style=\"text-align: right;\">\n",
       "      <th></th>\n",
       "      <th>subset_size</th>\n",
       "      <th>r2_value</th>\n",
       "      <th>test_accuracy</th>\n",
       "      <th>test_loss</th>\n",
       "      <th>imdb_loss</th>\n",
       "      <th>imdb_accuracy</th>\n",
       "      <th>sst2_loss</th>\n",
       "      <th>sst2_accuracy</th>\n",
       "      <th>yelp_loss</th>\n",
       "      <th>yelp_accuracy</th>\n",
       "      <th>mean_odd_accuracy</th>\n",
       "      <th>mean_odd_loss</th>\n",
       "    </tr>\n",
       "  </thead>\n",
       "  <tbody>\n",
       "    <tr>\n",
       "      <th>0</th>\n",
       "      <td>2776</td>\n",
       "      <td>0.819424</td>\n",
       "      <td>0.748814</td>\n",
       "      <td>0.530179</td>\n",
       "      <td>0.556370</td>\n",
       "      <td>0.76436</td>\n",
       "      <td>0.607702</td>\n",
       "      <td>0.705148</td>\n",
       "      <td>0.533143</td>\n",
       "      <td>0.767263</td>\n",
       "      <td>0.745590</td>\n",
       "      <td>0.565739</td>\n",
       "    </tr>\n",
       "    <tr>\n",
       "      <th>1</th>\n",
       "      <td>5552</td>\n",
       "      <td>0.824859</td>\n",
       "      <td>0.753961</td>\n",
       "      <td>0.491525</td>\n",
       "      <td>0.502986</td>\n",
       "      <td>0.76592</td>\n",
       "      <td>0.539926</td>\n",
       "      <td>0.736121</td>\n",
       "      <td>0.439562</td>\n",
       "      <td>0.814158</td>\n",
       "      <td>0.772066</td>\n",
       "      <td>0.494158</td>\n",
       "    </tr>\n",
       "    <tr>\n",
       "      <th>2</th>\n",
       "      <td>8328</td>\n",
       "      <td>0.826377</td>\n",
       "      <td>0.738521</td>\n",
       "      <td>0.505057</td>\n",
       "      <td>0.536959</td>\n",
       "      <td>0.74156</td>\n",
       "      <td>0.589302</td>\n",
       "      <td>0.703737</td>\n",
       "      <td>0.473140</td>\n",
       "      <td>0.796816</td>\n",
       "      <td>0.747371</td>\n",
       "      <td>0.533134</td>\n",
       "    </tr>\n",
       "    <tr>\n",
       "      <th>3</th>\n",
       "      <td>11104</td>\n",
       "      <td>0.827293</td>\n",
       "      <td>0.767181</td>\n",
       "      <td>0.480362</td>\n",
       "      <td>0.501064</td>\n",
       "      <td>0.76848</td>\n",
       "      <td>0.690023</td>\n",
       "      <td>0.690523</td>\n",
       "      <td>0.484313</td>\n",
       "      <td>0.761105</td>\n",
       "      <td>0.740036</td>\n",
       "      <td>0.558467</td>\n",
       "    </tr>\n",
       "    <tr>\n",
       "      <th>4</th>\n",
       "      <td>13880</td>\n",
       "      <td>0.827823</td>\n",
       "      <td>0.774952</td>\n",
       "      <td>0.461300</td>\n",
       "      <td>0.506842</td>\n",
       "      <td>0.75984</td>\n",
       "      <td>0.541573</td>\n",
       "      <td>0.754918</td>\n",
       "      <td>0.451435</td>\n",
       "      <td>0.807211</td>\n",
       "      <td>0.773990</td>\n",
       "      <td>0.499950</td>\n",
       "    </tr>\n",
       "    <tr>\n",
       "      <th>5</th>\n",
       "      <td>16656</td>\n",
       "      <td>0.828073</td>\n",
       "      <td>0.766374</td>\n",
       "      <td>0.478801</td>\n",
       "      <td>0.500360</td>\n",
       "      <td>0.75084</td>\n",
       "      <td>0.545420</td>\n",
       "      <td>0.731785</td>\n",
       "      <td>0.446351</td>\n",
       "      <td>0.806658</td>\n",
       "      <td>0.763094</td>\n",
       "      <td>0.497377</td>\n",
       "    </tr>\n",
       "    <tr>\n",
       "      <th>6</th>\n",
       "      <td>19432</td>\n",
       "      <td>0.828513</td>\n",
       "      <td>0.768191</td>\n",
       "      <td>0.500919</td>\n",
       "      <td>0.498000</td>\n",
       "      <td>0.76864</td>\n",
       "      <td>0.588472</td>\n",
       "      <td>0.746217</td>\n",
       "      <td>0.489513</td>\n",
       "      <td>0.775395</td>\n",
       "      <td>0.763417</td>\n",
       "      <td>0.525328</td>\n",
       "    </tr>\n",
       "    <tr>\n",
       "      <th>7</th>\n",
       "      <td>22208</td>\n",
       "      <td>0.828446</td>\n",
       "      <td>0.760420</td>\n",
       "      <td>0.485510</td>\n",
       "      <td>0.504272</td>\n",
       "      <td>0.75032</td>\n",
       "      <td>0.502660</td>\n",
       "      <td>0.775171</td>\n",
       "      <td>0.412235</td>\n",
       "      <td>0.825974</td>\n",
       "      <td>0.783822</td>\n",
       "      <td>0.473056</td>\n",
       "    </tr>\n",
       "    <tr>\n",
       "      <th>8</th>\n",
       "      <td>24984</td>\n",
       "      <td>0.828664</td>\n",
       "      <td>0.766778</td>\n",
       "      <td>0.468755</td>\n",
       "      <td>0.545509</td>\n",
       "      <td>0.71236</td>\n",
       "      <td>0.481013</td>\n",
       "      <td>0.785550</td>\n",
       "      <td>0.428340</td>\n",
       "      <td>0.816026</td>\n",
       "      <td>0.771312</td>\n",
       "      <td>0.484954</td>\n",
       "    </tr>\n",
       "    <tr>\n",
       "      <th>9</th>\n",
       "      <td>27760</td>\n",
       "      <td>0.828785</td>\n",
       "      <td>0.764154</td>\n",
       "      <td>0.483793</td>\n",
       "      <td>0.518682</td>\n",
       "      <td>0.74616</td>\n",
       "      <td>0.639523</td>\n",
       "      <td>0.700797</td>\n",
       "      <td>0.484255</td>\n",
       "      <td>0.772737</td>\n",
       "      <td>0.739898</td>\n",
       "      <td>0.547487</td>\n",
       "    </tr>\n",
       "  </tbody>\n",
       "</table>\n",
       "</div>"
      ],
      "text/plain": [
       "   subset_size  r2_value  test_accuracy  test_loss  imdb_loss  imdb_accuracy  \\\n",
       "0         2776  0.819424       0.748814   0.530179   0.556370        0.76436   \n",
       "1         5552  0.824859       0.753961   0.491525   0.502986        0.76592   \n",
       "2         8328  0.826377       0.738521   0.505057   0.536959        0.74156   \n",
       "3        11104  0.827293       0.767181   0.480362   0.501064        0.76848   \n",
       "4        13880  0.827823       0.774952   0.461300   0.506842        0.75984   \n",
       "5        16656  0.828073       0.766374   0.478801   0.500360        0.75084   \n",
       "6        19432  0.828513       0.768191   0.500919   0.498000        0.76864   \n",
       "7        22208  0.828446       0.760420   0.485510   0.504272        0.75032   \n",
       "8        24984  0.828664       0.766778   0.468755   0.545509        0.71236   \n",
       "9        27760  0.828785       0.764154   0.483793   0.518682        0.74616   \n",
       "\n",
       "   sst2_loss  sst2_accuracy  yelp_loss  yelp_accuracy  mean_odd_accuracy  \\\n",
       "0   0.607702       0.705148   0.533143       0.767263           0.745590   \n",
       "1   0.539926       0.736121   0.439562       0.814158           0.772066   \n",
       "2   0.589302       0.703737   0.473140       0.796816           0.747371   \n",
       "3   0.690023       0.690523   0.484313       0.761105           0.740036   \n",
       "4   0.541573       0.754918   0.451435       0.807211           0.773990   \n",
       "5   0.545420       0.731785   0.446351       0.806658           0.763094   \n",
       "6   0.588472       0.746217   0.489513       0.775395           0.763417   \n",
       "7   0.502660       0.775171   0.412235       0.825974           0.783822   \n",
       "8   0.481013       0.785550   0.428340       0.816026           0.771312   \n",
       "9   0.639523       0.700797   0.484255       0.772737           0.739898   \n",
       "\n",
       "   mean_odd_loss  \n",
       "0       0.565739  \n",
       "1       0.494158  \n",
       "2       0.533134  \n",
       "3       0.558467  \n",
       "4       0.499950  \n",
       "5       0.497377  \n",
       "6       0.525328  \n",
       "7       0.473056  \n",
       "8       0.484954  \n",
       "9       0.547487  "
      ]
     },
     "execution_count": 29,
     "metadata": {},
     "output_type": "execute_result"
    }
   ],
   "source": [
    "results_df['mean_odd_accuracy'] = results_df[['imdb_accuracy', 'sst2_accuracy', 'yelp_accuracy']].mean(axis=1)\n",
    "results_df['mean_odd_loss'] = results_df[['imdb_loss', 'sst2_loss', 'yelp_loss']].mean(axis=1)\n",
    "results_df"
   ]
  },
  {
   "cell_type": "code",
   "execution_count": 30,
   "metadata": {},
   "outputs": [
    {
     "data": {
      "image/png": "[encoded data removed]",
      "text/plain": [
       "<Figure size 640x480 with 1 Axes>"
      ]
     },
     "metadata": {},
     "output_type": "display_data"
    }
   ],
   "source": [
    "plot = sns.barplot(x=results_df['subset_size'], y=results_df['mean_odd_accuracy'])"
   ]
  },
  {
   "cell_type": "code",
   "execution_count": 31,
   "metadata": {},
   "outputs": [
    {
     "data": {
      "image/png": "[encoded data removed]",
      "text/plain": [
       "<Figure size 640x480 with 1 Axes>"
      ]
     },
     "metadata": {},
     "output_type": "display_data"
    }
   ],
   "source": [
    "plot = sns.barplot(x=results_df['subset_size'], y=results_df['mean_odd_loss'])"
   ]
  },
  {
   "cell_type": "code",
   "execution_count": 32,
   "metadata": {},
   "outputs": [
    {
     "data": {
      "image/png": "[encoded data removed]",
      "text/plain": [
       "<Figure size 640x480 with 1 Axes>"
      ]
     },
     "metadata": {},
     "output_type": "display_data"
    }
   ],
   "source": [
    "plot = sns.barplot(x=results_df['subset_size'], y=results_df['mean_odd_accuracy'], alpha=0.7)\n",
    "plot = sns.barplot(x=results_df['subset_size'], y=results_df['mean_odd_loss'], alpha=0.7)"
   ]
  },
  {
   "cell_type": "code",
   "execution_count": 33,
   "metadata": {},
   "outputs": [
    {
     "data": {
      "text/plain": [
       "[(0.16, 0.96)]"
      ]
     },
     "execution_count": 33,
     "metadata": {},
     "output_type": "execute_result"
    },
    {
     "data": {
      "image/png": "[encoded data removed]",
      "text/plain": [
       "<Figure size 640x480 with 1 Axes>"
      ]
     },
     "metadata": {},
     "output_type": "display_data"
    }
   ],
   "source": [
    "plot = sns.barplot(x=results_df['subset_size'], y=results_df['test_accuracy'], alpha=0.7)\n",
    "plot = sns.barplot(x=results_df['subset_size'], y=results_df['test_loss'], alpha=0.7)\n",
    "plot.set(ylim=(0.16, 0.96))"
   ]
  },
  {
   "cell_type": "code",
   "execution_count": 34,
   "metadata": {},
   "outputs": [
    {
     "data": {
      "text/plain": [
       "<matplotlib.lines.Line2D at 0x2897d5e90>"
      ]
     },
     "execution_count": 34,
     "metadata": {},
     "output_type": "execute_result"
    },
    {
     "data": {
      "image/png": "[encoded data removed]",
      "text/plain": [
       "<Figure size 640x480 with 1 Axes>"
      ]
     },
     "metadata": {},
     "output_type": "display_data"
    }
   ],
   "source": [
    "graph = sns.lineplot(x=results_df['subset_size'], y=results_df['r2_value'], marker=\"o\")\n",
    "graph.axhline(variance_metrics['full_set_var_sum'], color='red')"
   ]
  },
  {
   "cell_type": "code",
   "execution_count": null,
   "metadata": {},
   "outputs": [],
   "source": []
  },
  {
   "cell_type": "code",
   "execution_count": null,
   "metadata": {},
   "outputs": [],
   "source": [
    "file_list = glob.glob('./Eval-Results-roberta-base/*')\n",
    "\n",
    "odd_results = {}\n",
    "for file in file_list:\n",
    "    key = get_key(file)\n",
    "    with open(file, 'r') as f:\n",
    "        data = f.read()\n",
    "        odd_results[key] = data\n",
    "        # process the data as needed"
   ]
  },
  {
   "cell_type": "code",
   "execution_count": null,
   "metadata": {},
   "outputs": [],
   "source": []
  }
 ],
 "metadata": {
  "kernelspec": {
   "display_name": "py11-env",
   "language": "python",
   "name": "python3"
  },
  "language_info": {
   "codemirror_mode": {
    "name": "ipython",
    "version": 3
   },
   "file_extension": ".py",
   "mimetype": "text/x-python",
   "name": "python",
   "nbconvert_exporter": "python",
   "pygments_lexer": "ipython3",
   "version": "3.11.6"
  }
 },
 "nbformat": 4,
 "nbformat_minor": 2
}
